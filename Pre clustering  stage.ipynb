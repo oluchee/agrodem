{
 "cells": [
  {
   "cell_type": "code",
   "execution_count": 7,
   "metadata": {},
   "outputs": [
    {
     "data": {
      "text/plain": [
       "''"
      ]
     },
     "execution_count": 7,
     "metadata": {},
     "output_type": "execute_result"
    }
   ],
   "source": [
    "import geopandas as gpd\n",
    "import os\n",
    "import fiona\n",
    "import ipywidgets as widgets\n",
    "from IPython.display import display\n",
    "from rasterstats import zonal_stats\n",
    "import rasterio\n",
    "import rasterio.fill\n",
    "from shapely.geometry import shape, mapping\n",
    "import json\n",
    "from earthpy import clip\n",
    "import earthpy.spatial as es\n",
    "import numpy as np\n",
    "import tkinter as tk\n",
    "from tkinter import filedialog, messagebox\n",
    "import gdal\n",
    "import datetime\n",
    "import warnings\n",
    "import pandas as pd\n",
    "import scipy.spatial\n",
    "from pandas import DataFrame as df\n",
    "from shapely.geometry import Point, Polygon\n",
    "warnings.filterwarnings('ignore')\n",
    "\n",
    "root = tk.Tk()\n",
    "root.withdraw()\n",
    "root.attributes(\"-topmost\", True)"
   ]
  },
  {
   "cell_type": "markdown",
   "metadata": {},
   "source": [
    "#  Performing spatial join (merge) using geopandas"
   ]
  },
  {
   "cell_type": "markdown",
   "metadata": {},
   "source": [
    "## CROP1 :MAIZE"
   ]
  },
  {
   "cell_type": "code",
   "execution_count": 8,
   "metadata": {},
   "outputs": [],
   "source": [
    "path = r\"C:\\Benin\\agrodem_output\"\n",
    "name_of_file= \"test.csv\"\n",
    "# Import csv as pandas dataframe\n",
    "df_maize= pd.read_csv(path + \"\\\\\" + name_of_file)"
   ]
  },
  {
   "cell_type": "code",
   "execution_count": 9,
   "metadata": {},
   "outputs": [],
   "source": [
    "new = df(df_maize,columns =['Pixel', 'State', 'lon', 'lat', 'Crop','Annual_elec_demand'])"
   ]
  },
  {
   "cell_type": "code",
   "execution_count": 10,
   "metadata": {},
   "outputs": [],
   "source": [
    "new.rename(columns={\"State\":\"name_adm2\"}, inplace=True)"
   ]
  },
  {
   "cell_type": "code",
   "execution_count": 11,
   "metadata": {},
   "outputs": [
    {
     "data": {
      "text/html": [
       "<div>\n",
       "<style scoped>\n",
       "    .dataframe tbody tr th:only-of-type {\n",
       "        vertical-align: middle;\n",
       "    }\n",
       "\n",
       "    .dataframe tbody tr th {\n",
       "        vertical-align: top;\n",
       "    }\n",
       "\n",
       "    .dataframe thead th {\n",
       "        text-align: right;\n",
       "    }\n",
       "</style>\n",
       "<table border=\"1\" class=\"dataframe\">\n",
       "  <thead>\n",
       "    <tr style=\"text-align: right;\">\n",
       "      <th></th>\n",
       "      <th>Pixel</th>\n",
       "      <th>name_adm2</th>\n",
       "      <th>lon</th>\n",
       "      <th>lat</th>\n",
       "      <th>Crop</th>\n",
       "      <th>Annual_elec_demand</th>\n",
       "    </tr>\n",
       "  </thead>\n",
       "  <tbody>\n",
       "    <tr>\n",
       "      <th>0</th>\n",
       "      <td>NaN</td>\n",
       "      <td>Karimama</td>\n",
       "      <td>2.91256</td>\n",
       "      <td>12.29472</td>\n",
       "      <td>Maize</td>\n",
       "      <td>47009.709570</td>\n",
       "    </tr>\n",
       "    <tr>\n",
       "      <th>1</th>\n",
       "      <td>NaN</td>\n",
       "      <td>Karimama</td>\n",
       "      <td>2.93052</td>\n",
       "      <td>12.28589</td>\n",
       "      <td>Maize</td>\n",
       "      <td>28253.623800</td>\n",
       "    </tr>\n",
       "    <tr>\n",
       "      <th>2</th>\n",
       "      <td>NaN</td>\n",
       "      <td>Karimama</td>\n",
       "      <td>2.97544</td>\n",
       "      <td>12.28589</td>\n",
       "      <td>Maize</td>\n",
       "      <td>3018.444945</td>\n",
       "    </tr>\n",
       "    <tr>\n",
       "      <th>3</th>\n",
       "      <td>NaN</td>\n",
       "      <td>Karimama</td>\n",
       "      <td>2.99340</td>\n",
       "      <td>12.26822</td>\n",
       "      <td>Maize</td>\n",
       "      <td>3947.988300</td>\n",
       "    </tr>\n",
       "    <tr>\n",
       "      <th>4</th>\n",
       "      <td>NaN</td>\n",
       "      <td>Karimama</td>\n",
       "      <td>3.16408</td>\n",
       "      <td>12.07379</td>\n",
       "      <td>Maize</td>\n",
       "      <td>31341.849310</td>\n",
       "    </tr>\n",
       "  </tbody>\n",
       "</table>\n",
       "</div>"
      ],
      "text/plain": [
       "   Pixel name_adm2      lon       lat   Crop  Annual_elec_demand\n",
       "0    NaN  Karimama  2.91256  12.29472  Maize        47009.709570\n",
       "1    NaN  Karimama  2.93052  12.28589  Maize        28253.623800\n",
       "2    NaN  Karimama  2.97544  12.28589  Maize         3018.444945\n",
       "3    NaN  Karimama  2.99340  12.26822  Maize         3947.988300\n",
       "4    NaN  Karimama  3.16408  12.07379  Maize        31341.849310"
      ]
     },
     "execution_count": 11,
     "metadata": {},
     "output_type": "execute_result"
    }
   ],
   "source": [
    "new.head()"
   ]
  },
  {
   "cell_type": "code",
   "execution_count": 12,
   "metadata": {},
   "outputs": [],
   "source": [
    "# Add geometry and convert to spatial dataframe in source CRS\n",
    "new['geometry'] = list(zip(new['lon'], new['lat']))\n",
    "new['geometry'] = new['geometry'].apply(Point)\n",
    "new = gpd.GeoDataFrame(new, geometry='geometry', crs={'init': 'epsg:4326'})\n",
    "\n",
    "# Reproject data in to Ordnance Survey GB coordinates\n",
    "new_osgb = new.to_crs({'init': 'epsg:3395'})"
   ]
  },
  {
   "cell_type": "code",
   "execution_count": 13,
   "metadata": {},
   "outputs": [],
   "source": [
    "# save\n",
    "path = r\"C:\\Benin\\agrodem_output_postprocessing\"\n",
    "#csv:\n",
    "shpname = \"crop_irrigation_demand.csv\"\n",
    "new_osgb.to_csv(os.path.join(path,\"{c}\".format(c=shpname)), index=False)\n",
    "#shp:\n",
    "new_osgb.to_file('crop_irrigation_demand.shp',driver = 'ESRI Shapefile')\n",
    "# Define output path"
   ]
  },
  {
   "cell_type": "code",
   "execution_count": null,
   "metadata": {},
   "outputs": [],
   "source": []
  },
  {
   "cell_type": "code",
   "execution_count": 82,
   "metadata": {},
   "outputs": [],
   "source": [
    "path = r\"C:\\Benin\\agrodem_output\"\n",
    "name_of_file= \"yams_filtered_results_1km.csv\"\n",
    "# Import csv as pandas dataframe\n",
    "df_yam= pd.read_csv(path + \"\\\\\" + name_of_file)"
   ]
  },
  {
   "cell_type": "code",
   "execution_count": 83,
   "metadata": {},
   "outputs": [],
   "source": [
    "new_yam = df(df_yam,columns =['Pixel', 'State', 'lon', 'lat', 'Crop','Annual_elec_demand'])"
   ]
  },
  {
   "cell_type": "code",
   "execution_count": 84,
   "metadata": {},
   "outputs": [],
   "source": [
    "new_yam.rename(columns={\"State\":\"name_adm2\"}, inplace=True)"
   ]
  },
  {
   "cell_type": "code",
   "execution_count": null,
   "metadata": {},
   "outputs": [],
   "source": []
  },
  {
   "cell_type": "code",
   "execution_count": 85,
   "metadata": {},
   "outputs": [],
   "source": [
    "# Add geometry and convert to spatial dataframe in source CRS\n",
    "new_yam['geometry'] = list(zip(new_yam['lon'], new_yam['lat']))\n",
    "new_yam['geometry'] = new_yam['geometry'].apply(Point)\n",
    "new_yam = gpd.GeoDataFrame(new_yam, geometry='geometry', crs={'init': 'epsg:4326'})\n",
    "\n",
    "# Reproject data in to Ordnance Survey GB coordinates\n",
    "new_yam_osgb = new_yam.to_crs({'init': 'epsg:3395'})"
   ]
  },
  {
   "cell_type": "code",
   "execution_count": 86,
   "metadata": {},
   "outputs": [],
   "source": [
    "# save\n",
    "path = r\"C:\\Benin\\agrodem_output_postprocessing\"\n",
    "#csv:\n",
    "shpname = \"yam_irrigation_demand.csv\"\n",
    "new_yam_osgb.to_csv(os.path.join(path,\"{c}\".format(c=shpname)), index=False)\n",
    "#shp:\n",
    "new_yam_osgb.to_file('yam_irrigation_demand.shp',driver = 'ESRI Shapefile')\n",
    "# Define output path"
   ]
  },
  {
   "cell_type": "markdown",
   "metadata": {},
   "source": [
    "### Import admin 2 layer\n"
   ]
  },
  {
   "cell_type": "code",
   "execution_count": 59,
   "metadata": {},
   "outputs": [],
   "source": [
    "path = r\"C:\\Oluchi\\Benin\\Admin_boundaries_modified\\Admin_boundaries_modified_3395\"\n",
    "name_shp = \"ben_admin_boundaries_modified_3395.shp\"\n",
    "admin_2_gdf = gpd.read_file(path + \"\\\\\" + name_shp)"
   ]
  },
  {
   "cell_type": "markdown",
   "metadata": {},
   "source": [
    "### Import previously exported shapefile"
   ]
  },
  {
   "cell_type": "code",
   "execution_count": 60,
   "metadata": {},
   "outputs": [],
   "source": [
    "path = r\"C:\\Github\\agrodem_new\"\n",
    "name_shp = \"maize_irrigation_demand.shp\"\n",
    "maize_shp = gpd.read_file(path + \"\\\\\" + name_shp)"
   ]
  },
  {
   "cell_type": "code",
   "execution_count": 54,
   "metadata": {},
   "outputs": [],
   "source": [
    "#admin_2_maize_gdf = gpd.sjoin(maize_shp,admin_2_gdf, how = \"right\", op = \"intersects\")"
   ]
  },
  {
   "cell_type": "code",
   "execution_count": 66,
   "metadata": {},
   "outputs": [
    {
     "data": {
      "text/html": [
       "<div>\n",
       "<style scoped>\n",
       "    .dataframe tbody tr th:only-of-type {\n",
       "        vertical-align: middle;\n",
       "    }\n",
       "\n",
       "    .dataframe tbody tr th {\n",
       "        vertical-align: top;\n",
       "    }\n",
       "\n",
       "    .dataframe thead th {\n",
       "        text-align: right;\n",
       "    }\n",
       "</style>\n",
       "<table border=\"1\" class=\"dataframe\">\n",
       "  <thead>\n",
       "    <tr style=\"text-align: right;\">\n",
       "      <th></th>\n",
       "      <th>GID_0</th>\n",
       "      <th>NAME_0</th>\n",
       "      <th>GID_1</th>\n",
       "      <th>NAME_1</th>\n",
       "      <th>NL_NAME_1</th>\n",
       "      <th>GID_2</th>\n",
       "      <th>NAME_2</th>\n",
       "      <th>VARNAME_2</th>\n",
       "      <th>NL_NAME_2</th>\n",
       "      <th>TYPE_2</th>\n",
       "      <th>...</th>\n",
       "      <th>CC_2</th>\n",
       "      <th>HASC_2</th>\n",
       "      <th>name_adm2</th>\n",
       "      <th>geometry_x</th>\n",
       "      <th>Pixel</th>\n",
       "      <th>lon</th>\n",
       "      <th>lat</th>\n",
       "      <th>Crop</th>\n",
       "      <th>Annual_ele</th>\n",
       "      <th>geometry_y</th>\n",
       "    </tr>\n",
       "  </thead>\n",
       "  <tbody>\n",
       "    <tr>\n",
       "      <th>0</th>\n",
       "      <td>BEN</td>\n",
       "      <td>Benin</td>\n",
       "      <td>BEN.1_1</td>\n",
       "      <td>Alibori</td>\n",
       "      <td>None</td>\n",
       "      <td>BEN.1.4_1</td>\n",
       "      <td>Karimama</td>\n",
       "      <td>None</td>\n",
       "      <td>None</td>\n",
       "      <td>Commune</td>\n",
       "      <td>...</td>\n",
       "      <td>None</td>\n",
       "      <td>BJ.AL.KR</td>\n",
       "      <td>Karimama</td>\n",
       "      <td>POLYGON ((366443.493 1328774.638, 365336.536 1...</td>\n",
       "      <td>11142</td>\n",
       "      <td>2.91256</td>\n",
       "      <td>12.29472</td>\n",
       "      <td>Maize</td>\n",
       "      <td>40526089.54</td>\n",
       "      <td>POINT (324224.696 1370174.961)</td>\n",
       "    </tr>\n",
       "    <tr>\n",
       "      <th>1</th>\n",
       "      <td>BEN</td>\n",
       "      <td>Benin</td>\n",
       "      <td>BEN.1_1</td>\n",
       "      <td>Alibori</td>\n",
       "      <td>None</td>\n",
       "      <td>BEN.1.4_1</td>\n",
       "      <td>Karimama</td>\n",
       "      <td>None</td>\n",
       "      <td>None</td>\n",
       "      <td>Commune</td>\n",
       "      <td>...</td>\n",
       "      <td>None</td>\n",
       "      <td>BJ.AL.KR</td>\n",
       "      <td>Karimama</td>\n",
       "      <td>POLYGON ((366443.493 1328774.638, 365336.536 1...</td>\n",
       "      <td>11169</td>\n",
       "      <td>2.93052</td>\n",
       "      <td>12.28589</td>\n",
       "      <td>Maize</td>\n",
       "      <td>29088330.00</td>\n",
       "      <td>POINT (326223.994 1369175.385)</td>\n",
       "    </tr>\n",
       "    <tr>\n",
       "      <th>2</th>\n",
       "      <td>BEN</td>\n",
       "      <td>Benin</td>\n",
       "      <td>BEN.1_1</td>\n",
       "      <td>Alibori</td>\n",
       "      <td>None</td>\n",
       "      <td>BEN.1.4_1</td>\n",
       "      <td>Karimama</td>\n",
       "      <td>None</td>\n",
       "      <td>None</td>\n",
       "      <td>Commune</td>\n",
       "      <td>...</td>\n",
       "      <td>None</td>\n",
       "      <td>BJ.AL.KR</td>\n",
       "      <td>Karimama</td>\n",
       "      <td>POLYGON ((366443.493 1328774.638, 365336.536 1...</td>\n",
       "      <td>11174</td>\n",
       "      <td>2.97544</td>\n",
       "      <td>12.28589</td>\n",
       "      <td>Maize</td>\n",
       "      <td>19841346.03</td>\n",
       "      <td>POINT (331224.466 1369175.385)</td>\n",
       "    </tr>\n",
       "    <tr>\n",
       "      <th>3</th>\n",
       "      <td>BEN</td>\n",
       "      <td>Benin</td>\n",
       "      <td>BEN.1_1</td>\n",
       "      <td>Alibori</td>\n",
       "      <td>None</td>\n",
       "      <td>BEN.1.4_1</td>\n",
       "      <td>Karimama</td>\n",
       "      <td>None</td>\n",
       "      <td>None</td>\n",
       "      <td>Commune</td>\n",
       "      <td>...</td>\n",
       "      <td>None</td>\n",
       "      <td>BJ.AL.KR</td>\n",
       "      <td>Karimama</td>\n",
       "      <td>POLYGON ((366443.493 1328774.638, 365336.536 1...</td>\n",
       "      <td>11249</td>\n",
       "      <td>2.99340</td>\n",
       "      <td>12.26822</td>\n",
       "      <td>Maize</td>\n",
       "      <td>31710326.40</td>\n",
       "      <td>POINT (333223.764 1367175.204)</td>\n",
       "    </tr>\n",
       "    <tr>\n",
       "      <th>4</th>\n",
       "      <td>BEN</td>\n",
       "      <td>Benin</td>\n",
       "      <td>BEN.1_1</td>\n",
       "      <td>Alibori</td>\n",
       "      <td>None</td>\n",
       "      <td>BEN.1.4_1</td>\n",
       "      <td>Karimama</td>\n",
       "      <td>None</td>\n",
       "      <td>None</td>\n",
       "      <td>Commune</td>\n",
       "      <td>...</td>\n",
       "      <td>None</td>\n",
       "      <td>BJ.AL.KR</td>\n",
       "      <td>Karimama</td>\n",
       "      <td>POLYGON ((366443.493 1328774.638, 365336.536 1...</td>\n",
       "      <td>12018</td>\n",
       "      <td>3.16408</td>\n",
       "      <td>12.07379</td>\n",
       "      <td>Maize</td>\n",
       "      <td>49433072.38</td>\n",
       "      <td>POINT (352223.774 1345175.339)</td>\n",
       "    </tr>\n",
       "  </tbody>\n",
       "</table>\n",
       "<p>5 rows × 21 columns</p>\n",
       "</div>"
      ],
      "text/plain": [
       "  GID_0 NAME_0    GID_1   NAME_1 NL_NAME_1      GID_2    NAME_2 VARNAME_2  \\\n",
       "0   BEN  Benin  BEN.1_1  Alibori      None  BEN.1.4_1  Karimama      None   \n",
       "1   BEN  Benin  BEN.1_1  Alibori      None  BEN.1.4_1  Karimama      None   \n",
       "2   BEN  Benin  BEN.1_1  Alibori      None  BEN.1.4_1  Karimama      None   \n",
       "3   BEN  Benin  BEN.1_1  Alibori      None  BEN.1.4_1  Karimama      None   \n",
       "4   BEN  Benin  BEN.1_1  Alibori      None  BEN.1.4_1  Karimama      None   \n",
       "\n",
       "  NL_NAME_2   TYPE_2  ...  CC_2    HASC_2 name_adm2  \\\n",
       "0      None  Commune  ...  None  BJ.AL.KR  Karimama   \n",
       "1      None  Commune  ...  None  BJ.AL.KR  Karimama   \n",
       "2      None  Commune  ...  None  BJ.AL.KR  Karimama   \n",
       "3      None  Commune  ...  None  BJ.AL.KR  Karimama   \n",
       "4      None  Commune  ...  None  BJ.AL.KR  Karimama   \n",
       "\n",
       "                                          geometry_x  Pixel      lon  \\\n",
       "0  POLYGON ((366443.493 1328774.638, 365336.536 1...  11142  2.91256   \n",
       "1  POLYGON ((366443.493 1328774.638, 365336.536 1...  11169  2.93052   \n",
       "2  POLYGON ((366443.493 1328774.638, 365336.536 1...  11174  2.97544   \n",
       "3  POLYGON ((366443.493 1328774.638, 365336.536 1...  11249  2.99340   \n",
       "4  POLYGON ((366443.493 1328774.638, 365336.536 1...  12018  3.16408   \n",
       "\n",
       "        lat   Crop   Annual_ele                      geometry_y  \n",
       "0  12.29472  Maize  40526089.54  POINT (324224.696 1370174.961)  \n",
       "1  12.28589  Maize  29088330.00  POINT (326223.994 1369175.385)  \n",
       "2  12.28589  Maize  19841346.03  POINT (331224.466 1369175.385)  \n",
       "3  12.26822  Maize  31710326.40  POINT (333223.764 1367175.204)  \n",
       "4  12.07379  Maize  49433072.38  POINT (352223.774 1345175.339)  \n",
       "\n",
       "[5 rows x 21 columns]"
      ]
     },
     "execution_count": 66,
     "metadata": {},
     "output_type": "execute_result"
    }
   ],
   "source": [
    "admin_2_maize_gdf.head()"
   ]
  },
  {
   "cell_type": "code",
   "execution_count": null,
   "metadata": {},
   "outputs": [],
   "source": [
    "# save\n",
    "path = r\"C:\\Benin\\agrodem_output_postprocessing\"\n",
    "#csv:\n",
    "shpname = \"maize_irrigation_demand.csv\"\n",
    "new_osgb.to_csv(os.path.join(path,\"{c}\".format(c=shpname)), index=False)\n",
    "#shp:\n",
    "new_osgb.to_file('maize_irrigation_demand.shp',driver = 'ESRI Shapefile')\n",
    "# Define output path"
   ]
  },
  {
   "cell_type": "markdown",
   "metadata": {},
   "source": [
    "# NEW ONE"
   ]
  },
  {
   "cell_type": "code",
   "execution_count": 139,
   "metadata": {},
   "outputs": [
    {
     "data": {
      "text/html": [
       "<div>\n",
       "<style scoped>\n",
       "    .dataframe tbody tr th:only-of-type {\n",
       "        vertical-align: middle;\n",
       "    }\n",
       "\n",
       "    .dataframe tbody tr th {\n",
       "        vertical-align: top;\n",
       "    }\n",
       "\n",
       "    .dataframe thead th {\n",
       "        text-align: right;\n",
       "    }\n",
       "</style>\n",
       "<table border=\"1\" class=\"dataframe\">\n",
       "  <thead>\n",
       "    <tr style=\"text-align: right;\">\n",
       "      <th></th>\n",
       "      <th>Pixel</th>\n",
       "      <th>name_adm2</th>\n",
       "      <th>lon</th>\n",
       "      <th>lat</th>\n",
       "      <th>Crop</th>\n",
       "      <th>Annual_ele</th>\n",
       "      <th>HubName</th>\n",
       "      <th>HubDist</th>\n",
       "    </tr>\n",
       "  </thead>\n",
       "  <tbody>\n",
       "    <tr>\n",
       "      <th>0</th>\n",
       "      <td>NaN</td>\n",
       "      <td>Bembereke</td>\n",
       "      <td>3.10560</td>\n",
       "      <td>10.54367</td>\n",
       "      <td>Yams</td>\n",
       "      <td>4360.912086</td>\n",
       "      <td>32.221730</td>\n",
       "      <td>8081.607901</td>\n",
       "    </tr>\n",
       "    <tr>\n",
       "      <th>1</th>\n",
       "      <td>NaN</td>\n",
       "      <td>Bembereke</td>\n",
       "      <td>2.54864</td>\n",
       "      <td>10.53478</td>\n",
       "      <td>Yams</td>\n",
       "      <td>5489.706550</td>\n",
       "      <td>17.079075</td>\n",
       "      <td>180.907603</td>\n",
       "    </tr>\n",
       "    <tr>\n",
       "      <th>2</th>\n",
       "      <td>NaN</td>\n",
       "      <td>Bembereke</td>\n",
       "      <td>2.56661</td>\n",
       "      <td>10.53478</td>\n",
       "      <td>Yams</td>\n",
       "      <td>546.614767</td>\n",
       "      <td>6.275945</td>\n",
       "      <td>1446.012351</td>\n",
       "    </tr>\n",
       "  </tbody>\n",
       "</table>\n",
       "</div>"
      ],
      "text/plain": [
       "   Pixel  name_adm2      lon       lat  Crop   Annual_ele    HubName  \\\n",
       "0    NaN  Bembereke  3.10560  10.54367  Yams  4360.912086  32.221730   \n",
       "1    NaN  Bembereke  2.54864  10.53478  Yams  5489.706550  17.079075   \n",
       "2    NaN  Bembereke  2.56661  10.53478  Yams   546.614767   6.275945   \n",
       "\n",
       "       HubDist  \n",
       "0  8081.607901  \n",
       "1   180.907603  \n",
       "2  1446.012351  "
      ]
     },
     "execution_count": 139,
     "metadata": {},
     "output_type": "execute_result"
    }
   ],
   "source": [
    "\n",
    "# import the two csv files needed\n",
    "#STEP1 : Import the csv file containing the hubdistance\n",
    "path = r\"C:\\Benin\\agrodem_output_postprocessing\"\n",
    "name_of_file = \"hub_distance.csv\"\n",
    "# Import csv as pandas dataframe\n",
    "distance_file= pd.read_csv(path + \"\\\\\" + name_of_file)\n",
    "distance_file.head(3)"
   ]
  },
  {
   "cell_type": "code",
   "execution_count": 140,
   "metadata": {},
   "outputs": [],
   "source": [
    "distance_file.rename(columns={'HubName':'Pop'}, inplace=True)"
   ]
  },
  {
   "cell_type": "code",
   "execution_count": 141,
   "metadata": {},
   "outputs": [
    {
     "data": {
      "text/plain": [
       "Index(['Pixel', 'name_adm2', 'lon', 'lat', 'Crop', 'Annual_ele', 'Pop',\n",
       "       'HubDist'],\n",
       "      dtype='object')"
      ]
     },
     "execution_count": 141,
     "metadata": {},
     "output_type": "execute_result"
    }
   ],
   "source": [
    "distance_file.columns"
   ]
  },
  {
   "cell_type": "code",
   "execution_count": 142,
   "metadata": {},
   "outputs": [],
   "source": [
    "distance_file= df(distance_file,columns =['Annual_ele', 'Pop'])"
   ]
  },
  {
   "cell_type": "code",
   "execution_count": 143,
   "metadata": {},
   "outputs": [
    {
     "data": {
      "text/html": [
       "<div>\n",
       "<style scoped>\n",
       "    .dataframe tbody tr th:only-of-type {\n",
       "        vertical-align: middle;\n",
       "    }\n",
       "\n",
       "    .dataframe tbody tr th {\n",
       "        vertical-align: top;\n",
       "    }\n",
       "\n",
       "    .dataframe thead th {\n",
       "        text-align: right;\n",
       "    }\n",
       "</style>\n",
       "<table border=\"1\" class=\"dataframe\">\n",
       "  <thead>\n",
       "    <tr style=\"text-align: right;\">\n",
       "      <th></th>\n",
       "      <th>Annual_ele</th>\n",
       "      <th>Pop</th>\n",
       "    </tr>\n",
       "  </thead>\n",
       "  <tbody>\n",
       "    <tr>\n",
       "      <th>count</th>\n",
       "      <td>6.460000e+02</td>\n",
       "      <td>648.000000</td>\n",
       "    </tr>\n",
       "    <tr>\n",
       "      <th>mean</th>\n",
       "      <td>2.159522e+07</td>\n",
       "      <td>81041.093346</td>\n",
       "    </tr>\n",
       "    <tr>\n",
       "      <th>std</th>\n",
       "      <td>2.330422e+07</td>\n",
       "      <td>132989.040486</td>\n",
       "    </tr>\n",
       "    <tr>\n",
       "      <th>min</th>\n",
       "      <td>4.168971e+02</td>\n",
       "      <td>6.102459</td>\n",
       "    </tr>\n",
       "    <tr>\n",
       "      <th>25%</th>\n",
       "      <td>1.027872e+04</td>\n",
       "      <td>14.683779</td>\n",
       "    </tr>\n",
       "    <tr>\n",
       "      <th>50%</th>\n",
       "      <td>1.988444e+07</td>\n",
       "      <td>43.384276</td>\n",
       "    </tr>\n",
       "    <tr>\n",
       "      <th>75%</th>\n",
       "      <td>3.921691e+07</td>\n",
       "      <td>299504.088837</td>\n",
       "    </tr>\n",
       "    <tr>\n",
       "      <th>max</th>\n",
       "      <td>1.169775e+08</td>\n",
       "      <td>299504.088837</td>\n",
       "    </tr>\n",
       "  </tbody>\n",
       "</table>\n",
       "</div>"
      ],
      "text/plain": [
       "         Annual_ele            Pop\n",
       "count  6.460000e+02     648.000000\n",
       "mean   2.159522e+07   81041.093346\n",
       "std    2.330422e+07  132989.040486\n",
       "min    4.168971e+02       6.102459\n",
       "25%    1.027872e+04      14.683779\n",
       "50%    1.988444e+07      43.384276\n",
       "75%    3.921691e+07  299504.088837\n",
       "max    1.169775e+08  299504.088837"
      ]
     },
     "execution_count": 143,
     "metadata": {},
     "output_type": "execute_result"
    }
   ],
   "source": [
    "distance_file.describe()"
   ]
  },
  {
   "cell_type": "code",
   "execution_count": 144,
   "metadata": {},
   "outputs": [],
   "source": [
    "#sort by the population\n",
    "distance_file=distance_file.groupby('Pop').sum()"
   ]
  },
  {
   "cell_type": "code",
   "execution_count": 145,
   "metadata": {},
   "outputs": [
    {
     "data": {
      "text/html": [
       "<div>\n",
       "<style scoped>\n",
       "    .dataframe tbody tr th:only-of-type {\n",
       "        vertical-align: middle;\n",
       "    }\n",
       "\n",
       "    .dataframe tbody tr th {\n",
       "        vertical-align: top;\n",
       "    }\n",
       "\n",
       "    .dataframe thead th {\n",
       "        text-align: right;\n",
       "    }\n",
       "</style>\n",
       "<table border=\"1\" class=\"dataframe\">\n",
       "  <thead>\n",
       "    <tr style=\"text-align: right;\">\n",
       "      <th></th>\n",
       "      <th>Annual_ele</th>\n",
       "    </tr>\n",
       "    <tr>\n",
       "      <th>Pop</th>\n",
       "      <th></th>\n",
       "    </tr>\n",
       "  </thead>\n",
       "  <tbody>\n",
       "    <tr>\n",
       "      <th>6.102459</th>\n",
       "      <td>9.738180e+08</td>\n",
       "    </tr>\n",
       "    <tr>\n",
       "      <th>6.275945</th>\n",
       "      <td>5.466148e+02</td>\n",
       "    </tr>\n",
       "    <tr>\n",
       "      <th>7.341890</th>\n",
       "      <td>7.448236e+07</td>\n",
       "    </tr>\n",
       "    <tr>\n",
       "      <th>8.375394</th>\n",
       "      <td>1.125304e+04</td>\n",
       "    </tr>\n",
       "    <tr>\n",
       "      <th>8.539538</th>\n",
       "      <td>9.397619e+07</td>\n",
       "    </tr>\n",
       "  </tbody>\n",
       "</table>\n",
       "</div>"
      ],
      "text/plain": [
       "            Annual_ele\n",
       "Pop                   \n",
       "6.102459  9.738180e+08\n",
       "6.275945  5.466148e+02\n",
       "7.341890  7.448236e+07\n",
       "8.375394  1.125304e+04\n",
       "8.539538  9.397619e+07"
      ]
     },
     "execution_count": 145,
     "metadata": {},
     "output_type": "execute_result"
    }
   ],
   "source": [
    "distance_file.head()"
   ]
  },
  {
   "cell_type": "code",
   "execution_count": 150,
   "metadata": {},
   "outputs": [],
   "source": [
    "path = r\"C:\\Benin\\New folder\"\n",
    "\n",
    "distance_file.to_csv(os.path.join(path,\"{c}.csv\".format(c=\"hub_final\")))"
   ]
  },
  {
   "cell_type": "code",
   "execution_count": 146,
   "metadata": {},
   "outputs": [
    {
     "data": {
      "text/html": [
       "<div>\n",
       "<style scoped>\n",
       "    .dataframe tbody tr th:only-of-type {\n",
       "        vertical-align: middle;\n",
       "    }\n",
       "\n",
       "    .dataframe tbody tr th {\n",
       "        vertical-align: top;\n",
       "    }\n",
       "\n",
       "    .dataframe thead th {\n",
       "        text-align: right;\n",
       "    }\n",
       "</style>\n",
       "<table border=\"1\" class=\"dataframe\">\n",
       "  <thead>\n",
       "    <tr style=\"text-align: right;\">\n",
       "      <th></th>\n",
       "      <th>id</th>\n",
       "      <th>GridCellArea</th>\n",
       "      <th>Country</th>\n",
       "      <th>Pop</th>\n",
       "      <th>NightLights</th>\n",
       "      <th>ElecPop</th>\n",
       "      <th>DHSREGEN</th>\n",
       "      <th>WindVel</th>\n",
       "      <th>GHI</th>\n",
       "      <th>TravelHours</th>\n",
       "      <th>...</th>\n",
       "      <th>PopStartYear</th>\n",
       "      <th>ElecPopCalib</th>\n",
       "      <th>Pop2025High</th>\n",
       "      <th>Pop2025Low</th>\n",
       "      <th>Pop2030High</th>\n",
       "      <th>Pop2030Low</th>\n",
       "      <th>Pop2020</th>\n",
       "      <th>ElecStart</th>\n",
       "      <th>GridDistCalibElec</th>\n",
       "      <th>FinalElecCode2020</th>\n",
       "    </tr>\n",
       "  </thead>\n",
       "  <tbody>\n",
       "    <tr>\n",
       "      <th>0</th>\n",
       "      <td>62054</td>\n",
       "      <td>0.507376</td>\n",
       "      <td>Benin</td>\n",
       "      <td>3713.732478</td>\n",
       "      <td>3.208329</td>\n",
       "      <td>3713.732478</td>\n",
       "      <td>Mono</td>\n",
       "      <td>5.988861</td>\n",
       "      <td>1899.927076</td>\n",
       "      <td>0.642423</td>\n",
       "      <td>...</td>\n",
       "      <td>3716.936013</td>\n",
       "      <td>3516.651898</td>\n",
       "      <td>3978.143990</td>\n",
       "      <td>3978.143990</td>\n",
       "      <td>4257.708378</td>\n",
       "      <td>4257.708378</td>\n",
       "      <td>3716.936013</td>\n",
       "      <td>1</td>\n",
       "      <td>0.0</td>\n",
       "      <td>1</td>\n",
       "    </tr>\n",
       "    <tr>\n",
       "      <th>1</th>\n",
       "      <td>62053</td>\n",
       "      <td>0.180592</td>\n",
       "      <td>Benin</td>\n",
       "      <td>1096.123683</td>\n",
       "      <td>0.815084</td>\n",
       "      <td>1096.123683</td>\n",
       "      <td>Mono</td>\n",
       "      <td>5.905779</td>\n",
       "      <td>1898.280151</td>\n",
       "      <td>0.953415</td>\n",
       "      <td>...</td>\n",
       "      <td>1097.069220</td>\n",
       "      <td>1037.954525</td>\n",
       "      <td>1174.165847</td>\n",
       "      <td>1174.165847</td>\n",
       "      <td>1256.680446</td>\n",
       "      <td>1256.680446</td>\n",
       "      <td>1097.069220</td>\n",
       "      <td>1</td>\n",
       "      <td>0.0</td>\n",
       "      <td>1</td>\n",
       "    </tr>\n",
       "    <tr>\n",
       "      <th>2</th>\n",
       "      <td>62052</td>\n",
       "      <td>0.008600</td>\n",
       "      <td>Benin</td>\n",
       "      <td>65.440220</td>\n",
       "      <td>1.399128</td>\n",
       "      <td>65.440220</td>\n",
       "      <td>Mono</td>\n",
       "      <td>5.879070</td>\n",
       "      <td>1898.000000</td>\n",
       "      <td>0.900000</td>\n",
       "      <td>...</td>\n",
       "      <td>65.496670</td>\n",
       "      <td>61.967434</td>\n",
       "      <td>70.099454</td>\n",
       "      <td>70.099454</td>\n",
       "      <td>75.025698</td>\n",
       "      <td>75.025698</td>\n",
       "      <td>65.496670</td>\n",
       "      <td>1</td>\n",
       "      <td>0.0</td>\n",
       "      <td>1</td>\n",
       "    </tr>\n",
       "  </tbody>\n",
       "</table>\n",
       "<p>3 rows × 56 columns</p>\n",
       "</div>"
      ],
      "text/plain": [
       "      id  GridCellArea Country          Pop  NightLights      ElecPop  \\\n",
       "0  62054      0.507376   Benin  3713.732478     3.208329  3713.732478   \n",
       "1  62053      0.180592   Benin  1096.123683     0.815084  1096.123683   \n",
       "2  62052      0.008600   Benin    65.440220     1.399128    65.440220   \n",
       "\n",
       "  DHSREGEN   WindVel          GHI  TravelHours  ...  PopStartYear  \\\n",
       "0     Mono  5.988861  1899.927076     0.642423  ...   3716.936013   \n",
       "1     Mono  5.905779  1898.280151     0.953415  ...   1097.069220   \n",
       "2     Mono  5.879070  1898.000000     0.900000  ...     65.496670   \n",
       "\n",
       "   ElecPopCalib  Pop2025High   Pop2025Low  Pop2030High   Pop2030Low  \\\n",
       "0   3516.651898  3978.143990  3978.143990  4257.708378  4257.708378   \n",
       "1   1037.954525  1174.165847  1174.165847  1256.680446  1256.680446   \n",
       "2     61.967434    70.099454    70.099454    75.025698    75.025698   \n",
       "\n",
       "       Pop2020  ElecStart  GridDistCalibElec  FinalElecCode2020  \n",
       "0  3716.936013          1                0.0                  1  \n",
       "1  1097.069220          1                0.0                  1  \n",
       "2    65.496670          1                0.0                  1  \n",
       "\n",
       "[3 rows x 56 columns]"
      ]
     },
     "execution_count": 146,
     "metadata": {},
     "output_type": "execute_result"
    }
   ],
   "source": [
    "# import the two csv files needed\n",
    "#STEP1 : Import the csv file containing the hubdistance\n",
    "path = r\"C:\\Benin\\agrodem_output_postprocessing\"\n",
    "name_of_file = \"Benin_calibrated.csv.csv\"\n",
    "# Import csv as pandas dataframe\n",
    "input_file= pd.read_csv(path + \"\\\\\" + name_of_file)\n",
    "input_file.head(3)"
   ]
  },
  {
   "cell_type": "code",
   "execution_count": 147,
   "metadata": {},
   "outputs": [],
   "source": [
    "new_input_final= input_file.merge(distance_file,on ='Pop', how = 'left')"
   ]
  },
  {
   "cell_type": "code",
   "execution_count": 148,
   "metadata": {},
   "outputs": [
    {
     "name": "stdout",
     "output_type": "stream",
     "text": [
      "0.0\n"
     ]
    }
   ],
   "source": [
    "x=new_input_final['Annual_ele'].sum()\n",
    "print(x)"
   ]
  },
  {
   "cell_type": "code",
   "execution_count": null,
   "metadata": {},
   "outputs": [],
   "source": []
  },
  {
   "cell_type": "code",
   "execution_count": null,
   "metadata": {},
   "outputs": [],
   "source": [
    "messagebox.showinfo('OnSSET extraction', 'Output folder')\n",
    "workspace = filedialog.askdirectory()\n",
    "\n",
    "messagebox.showinfo('OnSSET', 'Select the admin boundaries')\n",
    "admin = gpd.read_file(filedialog.askopenfilename(filetypes = ((\"shapefile\",\"*.shp\"),(\"all files\",\"*.*\"))))"
   ]
  },
  {
   "cell_type": "markdown",
   "metadata": {},
   "source": [
    "## Select the clusters"
   ]
  },
  {
   "cell_type": "code",
   "execution_count": null,
   "metadata": {},
   "outputs": [],
   "source": [
    "crs = 'EPSG:3395'"
   ]
  },
  {
   "cell_type": "code",
   "execution_count": null,
   "metadata": {},
   "outputs": [],
   "source": [
    "messagebox.showinfo('OnSSET', 'Select the clusters')\n",
    "clusters = gpd.read_file(filedialog.askopenfilename(filetypes = ((\"shapefile\",\"*.shp\"),(\"all files\",\"*.*\"))))\n",
    "    \n",
    "popunit = widgets.Dropdown(options=clusters.head(),\n",
    "    value=None,\n",
    "    description='Population:',\n",
    "    disabled=False)\n",
    "display(popunit)\n",
    "x = popunit.value"
   ]
  },
  {
   "cell_type": "code",
   "execution_count": null,
   "metadata": {},
   "outputs": [],
   "source": [
    "def preparing_for_vectors(workspace, clusters, crs):   \n",
    "    clusters.crs = {'init' :'epsg:4326'}\n",
    "    clusters = clusters.to_crs({ 'init': crs}) \n",
    "    points = clusters.copy()\n",
    "    points[\"geometry\"] = points[\"geometry\"].centroid\n",
    "    points.to_file(workspace + r'\\clusters_cp.shp', driver='ESRI Shapefile')\n",
    "    print(datetime.datetime.now())    \n",
    "    return clusters"
   ]
  },
  {
   "cell_type": "code",
   "execution_count": null,
   "metadata": {},
   "outputs": [],
   "source": [
    "clusters = preparing_for_vectors(workspace, clusters, crs)"
   ]
  },
  {
   "cell_type": "code",
   "execution_count": null,
   "metadata": {},
   "outputs": [],
   "source": [
    "messagebox.showinfo('OnSSET', 'Select the irrigation demand map')\n",
    "irrdem=gpd.read_file(filedialog.askopenfilename(title = \"Select Irrigation Demand map\", filetypes = ((\"shapefile\",\"*.shp\"),(\"all files\",\"*.*\"))))\n",
    "\n",
    "irrdemand = widgets.Dropdown(options=irrdem.head(),\n",
    "    value=None,\n",
    "    description='IrrigationDemand:',\n",
    "    disabled=False)\n",
    "\n",
    "display(irrdemand)\n",
    "      \n",
    "IrrDemandunit = widgets.Dropdown(options=['Wh', 'kWh', 'MWh'],\n",
    "    value='kWh',\n",
    "    description='Unit:',\n",
    "    disabled=False)\n",
    "\n",
    "display(IrrDemandunit)"
   ]
  },
  {
   "cell_type": "code",
   "execution_count": null,
   "metadata": {},
   "outputs": [],
   "source": []
  }
 ],
 "metadata": {
  "kernelspec": {
   "display_name": "Python 3",
   "language": "python",
   "name": "python3"
  },
  "language_info": {
   "codemirror_mode": {
    "name": "ipython",
    "version": 3
   },
   "file_extension": ".py",
   "mimetype": "text/x-python",
   "name": "python",
   "nbconvert_exporter": "python",
   "pygments_lexer": "ipython3",
   "version": "3.7.6"
  }
 },
 "nbformat": 4,
 "nbformat_minor": 4
}
