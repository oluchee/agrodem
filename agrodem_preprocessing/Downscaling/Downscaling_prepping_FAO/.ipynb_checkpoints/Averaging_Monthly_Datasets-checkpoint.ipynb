{
 "cells": [
  {
   "cell_type": "markdown",
   "metadata": {},
   "source": [
    "# Averaging monthly climatic variables\n",
    "\n",
    "This notebook provides a short script that helps merge montly raster layers into and create a annual average. In this case this is used to average temperature, solar radiation, wind and precipication retrieved from [WorldClimV2](https://worldclim.org/version2).\n",
    "\n",
    "**Original code:** [Konstantinos Pegios](https://github.com/kopegios) <br />\n",
    "**Conceptualization & Methodological review :** [Alexandros Korkovelos](https://github.com/akorkovelos) <br />\n",
    "**Updates, Modifications:** [Alexandros Korkovelos](https://github.com/akorkovelos) <br />\n",
    "**Funding:** The World Bank (contract number: 7190531), [KTH](https://www.kth.se/en/itm/inst/energiteknik/forskning/desa/welcome-to-the-unit-of-energy-systems-analysis-kth-desa-1.197296)"
   ]
  },
  {
   "cell_type": "code",
   "execution_count": 2,
   "metadata": {},
   "outputs": [],
   "source": [
    "#Import necessary moduls and libraries\n",
    "\n",
    "import os\n",
    "import numpy as np\n",
    "from glob import glob\n",
    "import rasterio"
   ]
  },
  {
   "cell_type": "code",
   "execution_count": 4,
   "metadata": {},
   "outputs": [
    {
     "name": "stdout",
     "output_type": "stream",
     "text": [
      "Wall time: 0 ns\n",
      "Reading data...\n",
      "Read all data as a list of numpy arrays..\n",
      "Perform averaging...\n",
      "Get metadata from one of the input files..\n",
      "Writing output file...\n"
     ]
    }
   ],
   "source": [
    "# Here is an example for temperature\n",
    "%time\n",
    "print(\"Reading data...\")\n",
    "\n",
    "#Difine directories and name\n",
    "data_dir = r\"\\\\ug.kth.se\\dfs\\home\\a\\l\\alekor\\appdata\\xp.V2\\Desktop\\Testing code\\WorldClimTempMonthly\"\n",
    "avgoutputpath = r\"\\\\ug.kth.se\\dfs\\home\\a\\l\\alekor\\appdata\\xp.V2\\Desktop\\Testing code\\WorldClimTempMonthly\"\n",
    "outputname = \"tavg.tif\"\n",
    "\n",
    "file_list = glob(os.path.join(data_dir, '*.tif'))\n",
    "\n",
    "def read_file(file):\n",
    "    with rasterio.open(file) as src:\n",
    "        return(src.read(1))\n",
    "\n",
    "print (\"Read all data as a list of numpy arrays..\")\n",
    "array_list = [read_file(x) for x in file_list]\n",
    "\n",
    "print(\"Perform averaging...\")\n",
    "array_out = np.mean(array_list, axis=0)\n",
    "\n",
    "print(\"Get metadata from one of the input files..\")\n",
    "with rasterio.open(file_list[0]) as src:\n",
    "    meta = src.meta\n",
    "\n",
    "meta.update(dtype=rasterio.float32)\n",
    "\n",
    "print(\"Writing output file...\")\n",
    "\n",
    "with rasterio.open(avgoutputpath + \"//\" + outputname, 'w', **meta) as dst:\n",
    "    dst.write(array_out.astype(rasterio.float32), 1)"
   ]
  }
 ],
 "metadata": {
  "kernelspec": {
   "display_name": "Python 3",
   "language": "python",
   "name": "python3"
  },
  "language_info": {
   "codemirror_mode": {
    "name": "ipython",
    "version": 3
   },
   "file_extension": ".py",
   "mimetype": "text/x-python",
   "name": "python",
   "nbconvert_exporter": "python",
   "pygments_lexer": "ipython3",
   "version": "3.7.3"
  }
 },
 "nbformat": 4,
 "nbformat_minor": 2
}
