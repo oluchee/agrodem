{
 "cells": [
  {
   "cell_type": "markdown",
   "metadata": {},
   "source": [
    "# Short script converting .dat file to csv\n",
    "\n",
    "The FLAT.gms file yields a .dat file with result on the downscaling process. This notebook converts .dat file to csv while adding an additional column with the new estimate for the crops harvested area. This is estimated by multiplying the ```Fraction``` column with output resolution in ha (1 sq.km ~ 100 ha). The new column is named ```cropname + Area``` (e.g. MaizeArea).\n",
    "\n",
    "**Original code:** [Alexandros Korkovelos](https://github.com/akorkovelos) <br />\n",
    "**Conceptualization & Methodological review :** [Alexandros Korkovelos](https://github.com/akorkovelos)<br />\n",
    "**Updates, Modifications:** [Alexandros Korkovelos](https://github.com/akorkovelos)<br />\n",
    "**Funding:** The World Bank (contract number: 7190531), [KTH](https://www.kth.se/en/itm/inst/energiteknik/forskning/desa/welcome-to-the-unit-of-energy-systems-analysis-kth-desa-1.197296)"
   ]
  },
  {
   "cell_type": "code",
   "execution_count": 62,
   "metadata": {},
   "outputs": [],
   "source": [
    "# Import module and libraries\n",
    "\n",
    "import pandas as pd\n",
    "import os"
   ]
  },
  {
   "cell_type": "code",
   "execution_count": 73,
   "metadata": {},
   "outputs": [],
   "source": [
    "# Import .dat file from directory\n",
    "\n",
    "flatoutputdf = pd.read_csv(r'N:\\Agrodem\\FLAT_model\\FLAT_1km\\src\\resource\\drybeans_1km\\finalresults.dat', sep='\\s+')"
   ]
  },
  {
   "cell_type": "code",
   "execution_count": 74,
   "metadata": {},
   "outputs": [],
   "source": [
    "# Get crop name\n",
    "cropharvarea = flatoutputdf[\"Crop\"][0] + \"Area\"\n",
    "\n",
    "# Create a new column with new harvested area\n",
    "flatoutputdf[cropharvarea] = flatoutputdf[\"Fraction\"]*100"
   ]
  },
  {
   "cell_type": "code",
   "execution_count": 75,
   "metadata": {},
   "outputs": [
    {
     "data": {
      "text/html": [
       "<div>\n",
       "<style scoped>\n",
       "    .dataframe tbody tr th:only-of-type {\n",
       "        vertical-align: middle;\n",
       "    }\n",
       "\n",
       "    .dataframe tbody tr th {\n",
       "        vertical-align: top;\n",
       "    }\n",
       "\n",
       "    .dataframe thead th {\n",
       "        text-align: right;\n",
       "    }\n",
       "</style>\n",
       "<table border=\"1\" class=\"dataframe\">\n",
       "  <thead>\n",
       "    <tr style=\"text-align: right;\">\n",
       "      <th></th>\n",
       "      <th>Pixel</th>\n",
       "      <th>State</th>\n",
       "      <th>lon</th>\n",
       "      <th>lat</th>\n",
       "      <th>Crop</th>\n",
       "      <th>Fraction</th>\n",
       "      <th>DryBeanArea</th>\n",
       "    </tr>\n",
       "  </thead>\n",
       "  <tbody>\n",
       "    <tr>\n",
       "      <td>0</td>\n",
       "      <td>0</td>\n",
       "      <td>Guro</td>\n",
       "      <td>33.75358</td>\n",
       "      <td>-16.41358</td>\n",
       "      <td>DryBean</td>\n",
       "      <td>0.000559</td>\n",
       "      <td>0.055888</td>\n",
       "    </tr>\n",
       "    <tr>\n",
       "      <td>1</td>\n",
       "      <td>1</td>\n",
       "      <td>Guro</td>\n",
       "      <td>33.76291</td>\n",
       "      <td>-16.41381</td>\n",
       "      <td>DryBean</td>\n",
       "      <td>0.001097</td>\n",
       "      <td>0.109669</td>\n",
       "    </tr>\n",
       "    <tr>\n",
       "      <td>2</td>\n",
       "      <td>2</td>\n",
       "      <td>Guro</td>\n",
       "      <td>33.77224</td>\n",
       "      <td>-16.41404</td>\n",
       "      <td>DryBean</td>\n",
       "      <td>0.002990</td>\n",
       "      <td>0.299048</td>\n",
       "    </tr>\n",
       "    <tr>\n",
       "      <td>3</td>\n",
       "      <td>3</td>\n",
       "      <td>Guro</td>\n",
       "      <td>33.78156</td>\n",
       "      <td>-16.41428</td>\n",
       "      <td>DryBean</td>\n",
       "      <td>0.003851</td>\n",
       "      <td>0.385131</td>\n",
       "    </tr>\n",
       "    <tr>\n",
       "      <td>4</td>\n",
       "      <td>4</td>\n",
       "      <td>Guro</td>\n",
       "      <td>33.79089</td>\n",
       "      <td>-16.41451</td>\n",
       "      <td>DryBean</td>\n",
       "      <td>0.007657</td>\n",
       "      <td>0.765683</td>\n",
       "    </tr>\n",
       "  </tbody>\n",
       "</table>\n",
       "</div>"
      ],
      "text/plain": [
       "   Pixel State       lon       lat     Crop  Fraction  DryBeanArea\n",
       "0      0  Guro  33.75358 -16.41358  DryBean  0.000559     0.055888\n",
       "1      1  Guro  33.76291 -16.41381  DryBean  0.001097     0.109669\n",
       "2      2  Guro  33.77224 -16.41404  DryBean  0.002990     0.299048\n",
       "3      3  Guro  33.78156 -16.41428  DryBean  0.003851     0.385131\n",
       "4      4  Guro  33.79089 -16.41451  DryBean  0.007657     0.765683"
      ]
     },
     "execution_count": 75,
     "metadata": {},
     "output_type": "execute_result"
    }
   ],
   "source": [
    "flatoutputdf.head()"
   ]
  },
  {
   "cell_type": "code",
   "execution_count": 76,
   "metadata": {},
   "outputs": [
    {
     "data": {
      "text/plain": [
       "258613.81819999998"
      ]
     },
     "execution_count": 76,
     "metadata": {},
     "output_type": "execute_result"
    }
   ],
   "source": [
    "flatoutputdf[cropharvarea].sum()"
   ]
  },
  {
   "cell_type": "markdown",
   "metadata": {},
   "source": [
    "## Perhaps adding crossvalidation here?"
   ]
  },
  {
   "cell_type": "markdown",
   "metadata": {},
   "source": [
    "### Export file as csv"
   ]
  },
  {
   "cell_type": "code",
   "execution_count": 77,
   "metadata": {},
   "outputs": [],
   "source": [
    "# Define output path\n",
    "path = r\"N:\\Agrodem\\Irrigation_model\\Input_data\\Downscaled_Crop\"\n",
    "csvname = cropharvarea[0:-4] + \"_Moz_1km_downscaled.csv\"\n",
    "\n",
    "#drybeans\n",
    "flatoutputdf.to_csv(os.path.join(path,\"{c}\".format(c=csvname)), index=False)"
   ]
  }
 ],
 "metadata": {
  "kernelspec": {
   "display_name": "Python 3",
   "language": "python",
   "name": "python3"
  },
  "language_info": {
   "codemirror_mode": {
    "name": "ipython",
    "version": 3
   },
   "file_extension": ".py",
   "mimetype": "text/x-python",
   "name": "python",
   "nbconvert_exporter": "python",
   "pygments_lexer": "ipython3",
   "version": "3.7.6"
  }
 },
 "nbformat": 4,
 "nbformat_minor": 2
}
