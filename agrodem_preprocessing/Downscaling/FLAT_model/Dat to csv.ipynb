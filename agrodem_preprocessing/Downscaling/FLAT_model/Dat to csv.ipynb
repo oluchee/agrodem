{
 "cells": [
  {
   "cell_type": "markdown",
   "metadata": {},
   "source": [
    "# Short script converting .dat file to csv\n",
    "\n",
    "The FLAT.gms file yields a .dat file with result on the downscaling process. This notebook converts .dat file to csv while adding an additional column with the new estimate for the crops harvested area. This is estimated by multiplying the ```Fraction``` column with output resolution in ha (1 sq.km ~ 100 ha). The new column is named ```cropname + Area``` (e.g. MaizeArea).\n",
    "\n",
    "**Original code:** [Alexandros Korkovelos](https://github.com/akorkovelos) <br />\n",
    "**Conceptualization & Methodological review :** [Alexandros Korkovelos](https://github.com/akorkovelos)<br />\n",
    "**Updates, Modifications:** [Alexandros Korkovelos](https://github.com/akorkovelos)<br />\n",
    "**Funding:** The World Bank (contract number: 7190531), [KTH](https://www.kth.se/en/itm/inst/energiteknik/forskning/desa/welcome-to-the-unit-of-energy-systems-analysis-kth-desa-1.197296)"
   ]
  },
  {
   "cell_type": "code",
   "execution_count": 2,
   "metadata": {},
   "outputs": [],
   "source": [
    "# Import module and libraries\n",
    "\n",
    "import pandas as pd\n",
    "import os"
   ]
  },
  {
   "cell_type": "code",
   "execution_count": 3,
   "metadata": {},
   "outputs": [],
   "source": [
    "# Import .dat file from directory\n",
    "\n",
    "flatoutputdf = pd.read_csv(r'C:\\Oluchi\\Downscaling\\Output_Data\\FLAT_Input\\finalresults.dat', sep='\\s+')"
   ]
  },
  {
   "cell_type": "code",
   "execution_count": 4,
   "metadata": {},
   "outputs": [],
   "source": [
    "# Get crop name\n",
    "cropharvarea = flatoutputdf[\"Crop\"][0] + \"Area\"\n",
    "\n",
    "# Create a new column with new harvested area\n",
    "flatoutputdf[cropharvarea] = flatoutputdf[\"Fraction\"]*100"
   ]
  },
  {
   "cell_type": "code",
   "execution_count": 5,
   "metadata": {},
   "outputs": [
    {
     "data": {
      "text/html": [
       "<div>\n",
       "<style scoped>\n",
       "    .dataframe tbody tr th:only-of-type {\n",
       "        vertical-align: middle;\n",
       "    }\n",
       "\n",
       "    .dataframe tbody tr th {\n",
       "        vertical-align: top;\n",
       "    }\n",
       "\n",
       "    .dataframe thead th {\n",
       "        text-align: right;\n",
       "    }\n",
       "</style>\n",
       "<table border=\"1\" class=\"dataframe\">\n",
       "  <thead>\n",
       "    <tr style=\"text-align: right;\">\n",
       "      <th></th>\n",
       "      <th>Pixel</th>\n",
       "      <th>State</th>\n",
       "      <th>lon</th>\n",
       "      <th>lat</th>\n",
       "      <th>Crop</th>\n",
       "      <th>Fraction</th>\n",
       "      <th>maizeArea</th>\n",
       "    </tr>\n",
       "  </thead>\n",
       "  <tbody>\n",
       "    <tr>\n",
       "      <th>0</th>\n",
       "      <td>0</td>\n",
       "      <td>Banikoara</td>\n",
       "      <td>2.37500</td>\n",
       "      <td>11.62500</td>\n",
       "      <td>maize</td>\n",
       "      <td>8.498397</td>\n",
       "      <td>849.839701</td>\n",
       "    </tr>\n",
       "    <tr>\n",
       "      <th>1</th>\n",
       "      <td>1</td>\n",
       "      <td>Banikoara</td>\n",
       "      <td>2.45833</td>\n",
       "      <td>11.62500</td>\n",
       "      <td>maize</td>\n",
       "      <td>8.498397</td>\n",
       "      <td>849.839701</td>\n",
       "    </tr>\n",
       "    <tr>\n",
       "      <th>2</th>\n",
       "      <td>2</td>\n",
       "      <td>Banikoara</td>\n",
       "      <td>2.54167</td>\n",
       "      <td>11.62500</td>\n",
       "      <td>maize</td>\n",
       "      <td>8.498397</td>\n",
       "      <td>849.839701</td>\n",
       "    </tr>\n",
       "    <tr>\n",
       "      <th>3</th>\n",
       "      <td>3</td>\n",
       "      <td>Banikoara</td>\n",
       "      <td>2.29167</td>\n",
       "      <td>11.54167</td>\n",
       "      <td>maize</td>\n",
       "      <td>8.498397</td>\n",
       "      <td>849.839701</td>\n",
       "    </tr>\n",
       "    <tr>\n",
       "      <th>4</th>\n",
       "      <td>4</td>\n",
       "      <td>Banikoara</td>\n",
       "      <td>2.37500</td>\n",
       "      <td>11.54167</td>\n",
       "      <td>maize</td>\n",
       "      <td>8.498397</td>\n",
       "      <td>849.839701</td>\n",
       "    </tr>\n",
       "  </tbody>\n",
       "</table>\n",
       "</div>"
      ],
      "text/plain": [
       "   Pixel      State      lon       lat   Crop  Fraction   maizeArea\n",
       "0      0  Banikoara  2.37500  11.62500  maize  8.498397  849.839701\n",
       "1      1  Banikoara  2.45833  11.62500  maize  8.498397  849.839701\n",
       "2      2  Banikoara  2.54167  11.62500  maize  8.498397  849.839701\n",
       "3      3  Banikoara  2.29167  11.54167  maize  8.498397  849.839701\n",
       "4      4  Banikoara  2.37500  11.54167  maize  8.498397  849.839701"
      ]
     },
     "execution_count": 5,
     "metadata": {},
     "output_type": "execute_result"
    }
   ],
   "source": [
    "flatoutputdf.head()"
   ]
  },
  {
   "cell_type": "code",
   "execution_count": 6,
   "metadata": {},
   "outputs": [
    {
     "data": {
      "text/plain": [
       "570199.234904"
      ]
     },
     "execution_count": 6,
     "metadata": {},
     "output_type": "execute_result"
    }
   ],
   "source": [
    "flatoutputdf[cropharvarea].sum()"
   ]
  },
  {
   "cell_type": "markdown",
   "metadata": {},
   "source": [
    "## Perhaps adding crossvalidation here?"
   ]
  },
  {
   "cell_type": "markdown",
   "metadata": {},
   "source": [
    "### Export file as csv"
   ]
  },
  {
   "cell_type": "code",
   "execution_count": 7,
   "metadata": {},
   "outputs": [],
   "source": [
    "# Define output path\n",
    "path = r\"C:\\Oluchi\\Downscaling\\Output_Data\\FLAT_Input\\Downscaled\"\n",
    "csvname = cropharvarea[0:-4] + \"_Ben_1km_downscaled.csv\"\n",
    "\n",
    "#drybeans\n",
    "flatoutputdf.to_csv(os.path.join(path,\"{c}\".format(c=csvname)), index=False)"
   ]
  },
  {
   "cell_type": "code",
   "execution_count": null,
   "metadata": {},
   "outputs": [],
   "source": []
  }
 ],
 "metadata": {
  "kernelspec": {
   "display_name": "Python 3",
   "language": "python",
   "name": "python3"
  },
  "language_info": {
   "codemirror_mode": {
    "name": "ipython",
    "version": 3
   },
   "file_extension": ".py",
   "mimetype": "text/x-python",
   "name": "python",
   "nbconvert_exporter": "python",
   "pygments_lexer": "ipython3",
   "version": "3.7.6"
  }
 },
 "nbformat": 4,
 "nbformat_minor": 2
}
