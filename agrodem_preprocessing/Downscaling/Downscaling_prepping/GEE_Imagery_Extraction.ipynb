{
 "cells": [
  {
   "cell_type": "markdown",
   "metadata": {},
   "source": [
    "# Google Earth Engine Raster Download\n",
    "\n",
    "This script can be used to download data from GEE.\n",
    "\n",
    "**Original code:** [Neeraj Baruah](https://www.vivideconomics.com/neeraj-baruah/) & [Konstantinos Pegios](https://github.com/kopegios) <br />\n",
    "**Updates, Modifications:** [Alexandros Korkovelos](https://github.com/akorkovelos)<br />\n",
    "**Funding:** The World Bank (contract number: 7190531), [KTH](https://www.kth.se/en/itm/inst/energiteknik/forskning/desa/welcome-to-the-unit-of-energy-systems-analysis-kth-desa-1.197296)"
   ]
  },
  {
   "cell_type": "code",
   "execution_count": 1,
   "metadata": {},
   "outputs": [],
   "source": [
    "#Import modules and libraries\n",
    "#Information on installation are available here https://developers.google.com/earth-engine/python_install_manual\n",
    "#for Windows 10 a simmple < pip install earthengine-api > shall do the work\n",
    "\n",
    "import ee\n",
    "from ee import batch\n",
    "import time"
   ]
  },
  {
   "cell_type": "markdown",
   "metadata": {},
   "source": [
    "### Define the boundaries and the target coordinate systems"
   ]
  },
  {
   "cell_type": "code",
   "execution_count": 2,
   "metadata": {},
   "outputs": [],
   "source": [
    "## Use of bboxfinder - http://bboxfinder.com/#-35.021431,-18.399020,39.227811,51.561917 in WGS84\n",
    "\n",
    "\n",
    "\n",
    "\n",
    "bounds = [-18.399020,-35.021431,51.561917,39.227811]\n",
    "output_resolution = 1000     # in m\n",
    "output_crs = 'EPSG:3395'   # suggested projection systems for the World"
   ]
  },
  {
   "cell_type": "markdown",
   "metadata": {},
   "source": [
    "#### Example of extracting single images"
   ]
  },
  {
   "cell_type": "code",
   "execution_count": 3,
   "metadata": {},
   "outputs": [
    {
     "name": "stdout",
     "output_type": "stream",
     "text": [
      "Processing landcover ...\n",
      "Bounds created. Reading in collection ...\n",
      "Image extracted...\n",
      "Initiating download to Google Drive\n",
      "Processing elevation ...\n",
      "Bounds created. Reading in collection ...\n",
      "Image extracted...\n",
      "Initiating download to Google Drive\n",
      "Processed in 3.88s\n"
     ]
    }
   ],
   "source": [
    "ee.Initialize()\n",
    "\n",
    "#Function to extract GEE Images\n",
    "def gee_extract_Image(image, band, desc, output_scale, bounds, crs): \n",
    "    \n",
    "    aoi = ee.Geometry.Rectangle(bounds)\n",
    "    aoi = aoi['coordinates'][0]\n",
    "    print(\"Bounds created. Reading in collection ...\")\n",
    "\n",
    "    dataset = ee.Image(image).select(band)\n",
    "    \n",
    "    print(\"Image extracted...\")\n",
    "    out = batch.Export.image.toDrive(image=dataset, description=desc, \n",
    "                                     scale=output_scale, crs=crs, region =aoi)\n",
    "    process = batch.Task.start(out)\n",
    "    print(\"Initiating download to Google Drive\")\n",
    "\n",
    "\n",
    "## Define layers to be extracted and downloaded to your Google Drive\n",
    "\n",
    "images = [                                                                                      \\\n",
    "          ['USGS/GFSAD1000_V0', 'landcover', 'GFSAD-landcover', output_resolution, bounds, output_crs], \\\n",
    "          ['CGIAR/SRTM90_V4', 'elevation', 'SRTM-elevation', output_resolution, bounds, output_crs],   \\\n",
    "         ]\n",
    "\n",
    "start = time.time()\n",
    "\n",
    "for i in images:\n",
    "    print(\"Processing {0} ...\" .format(i[1]))\n",
    "    gee_extract_Image(i[0], i[1], i[2], i[3], i[4], i[5])\n",
    "\n",
    "end = time.time()\n",
    "print(\"Processed in {0}s\" .format(round(end - start,2)))\n",
    "\n"
   ]
  },
  {
   "cell_type": "markdown",
   "metadata": {},
   "source": [
    "#### Example of extracting images under time series"
   ]
  },
  {
   "cell_type": "code",
   "execution_count": 4,
   "metadata": {},
   "outputs": [
    {
     "name": "stdout",
     "output_type": "stream",
     "text": [
      "Processing modis-ndvi ...\n",
      "Bounds created. Reading in collection ...\n",
      "Image composite created ...\n",
      "Initiating download to Google Drive...\n",
      "Processing modis-evi ...\n",
      "Bounds created. Reading in collection ...\n",
      "Image composite created ...\n",
      "Initiating download to Google Drive...\n",
      "Processing MODIS-Band2 ...\n",
      "Bounds created. Reading in collection ...\n",
      "Image composite created ...\n",
      "Initiating download to Google Drive...\n",
      "Processed in 5.56s\n"
     ]
    }
   ],
   "source": [
    "ee.Initialize()\n",
    "\n",
    "#Function to extract GEE image collections\n",
    "def gee_extract_ImageCollection(collection, time1, time2, band, desc, output_scale, bounds, crs):     \n",
    "    \n",
    "    aoi = ee.Geometry.Rectangle(bounds)\n",
    "    print(\"Bounds created. Reading in collection ...\")\n",
    "    dataset = ee.ImageCollection(collection)\n",
    "    dataset_time = dataset.filterDate(time1, time2)\n",
    "    bands = dataset_time.select(band)  ## another function for multiple bands - this is for single band only\n",
    "    composite = bands.median().clip(aoi);   ### Can use different reducer or simpleComposite algorithm\n",
    "    print(\"Image composite created ...\")\n",
    "    #print(composite.getInfo())\n",
    "    \n",
    "    out = batch.Export.image.toDrive(image=composite, description=desc,scale=output_scale, crs=crs)\n",
    "    process = batch.Task.start(out)\n",
    "    print(\"Initiating download to Google Drive...\")\n",
    "\n",
    "'''\n",
    "##############################\n",
    "##############################\n",
    "#######                #######\n",
    "#######    VARIABLES   #######\n",
    "#######                #######\n",
    "##############################\n",
    "############################## \n",
    "'''\n",
    "\n",
    "'''Input parameters as a list:\n",
    "       @dataset-collection\n",
    "       @beginning of compoiste time range\n",
    "       @end of composite time range\n",
    "       @band\n",
    "       @description\n",
    "       @output spatial resolution\n",
    "       @area of interest bounds'''\n",
    "      \n",
    "imageCollections = [                                                                                      \\\n",
    "                    ['MODIS/006/MOD13Q1', '2018-01-01', '2018-12-31', 'NDVI', 'modis-ndvi', output_resolution, bounds, output_crs], \\\n",
    "                    ['MODIS/006/MOD13Q1', '2018-01-01', '2018-12-31', 'EVI', 'modis-evi', output_resolution, bounds, output_crs], \\\n",
    "                    ['MODIS/006/MOD09GA', '2018-01-01', '2018-12-31', 'sur_refl_b02', 'MODIS-Band2', output_resolution, bounds, output_crs], \\\n",
    "         ]\n",
    "\n",
    "start = time.time()\n",
    "for i in imageCollections:\n",
    "    print(\"Processing {0} ...\" .format(i[4]))\n",
    "    gee_extract_ImageCollection(i[0], i[1], i[2], i[3], i[4], i[5], i[6], i[7])\n",
    "\n",
    "end = time.time()\n",
    "print(\"Processed in {0}s\" .format(round(end - start,2)))\n"
   ]
  },
  {
   "cell_type": "code",
   "execution_count": null,
   "metadata": {},
   "outputs": [],
   "source": []
  },
  {
   "cell_type": "code",
   "execution_count": null,
   "metadata": {},
   "outputs": [],
   "source": []
  },
  {
   "cell_type": "code",
   "execution_count": null,
   "metadata": {},
   "outputs": [],
   "source": []
  }
 ],
 "metadata": {
  "kernelspec": {
   "display_name": "Python 3",
   "language": "python",
   "name": "python3"
  },
  "language_info": {
   "codemirror_mode": {
    "name": "ipython",
    "version": 3
   },
   "file_extension": ".py",
   "mimetype": "text/x-python",
   "name": "python",
   "nbconvert_exporter": "python",
   "pygments_lexer": "ipython3",
   "version": "3.7.6"
  }
 },
 "nbformat": 4,
 "nbformat_minor": 2
}
