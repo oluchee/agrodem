{
 "cells": [
  {
   "cell_type": "markdown",
   "metadata": {},
   "source": [
    "# Creating input data\n",
    "\n",
    "Here we import and filter the SPAM dataset so as to retrieve 10x10 km allocation of rainfed maize for a region.\n",
    "Note that the \"spam2010V1r1_global_H_TR.csv\" file was selected - other options are available."
   ]
  },
  {
   "cell_type": "code",
   "execution_count": 1,
   "metadata": {},
   "outputs": [],
   "source": [
    "import os\n",
    "import geopandas as gpd\n",
    "import pandas as pd\n",
    "# Import data \n",
    "\n",
    "#path = r\"N:\\Agrodem\\spam2010v1r1_global_harv_area.csv\"\n",
    "path = r\"C:\\Users\\oluchi\\Downloads\\spam2017v1r1_ssa_harv_area.csv\"\n",
    "name_of_file = \"spam2017V1r1_SSA_gr_H_TA.csv\"\n",
    "\n",
    "# Import csv as pandas dataframe\n",
    "SPAM_database_df = pd.read_csv(path + \"\\\\\" + name_of_file, encoding='latin1')"
   ]
  },
  {
   "cell_type": "code",
   "execution_count": 2,
   "metadata": {},
   "outputs": [
    {
     "data": {
      "text/plain": [
       "Index(['iso3', 'prod_level', 'alloc_key', 'cell5m', 'x', 'y', 'rec_type',\n",
       "       'tech_type', 'unit', 'whea_a', 'rice_a', 'maiz_a', 'barl_a', 'pmil_a',\n",
       "       'smil_a', 'sorg_a', 'ocer_a', 'pota_a', 'swpo_a', 'yams_a', 'cass_a',\n",
       "       'orts_a', 'bean_a', 'chic_a', 'cowp_a', 'pige_a', 'lent_a', 'opul_a',\n",
       "       'soyb_a', 'grou_a', 'cnut_a', 'oilp_a', 'sunf_a', 'rape_a', 'sesa_a',\n",
       "       'ooil_a', 'sugc_a', 'sugb_a', 'cott_a', 'ofib_a', 'acof_a', 'rcof_a',\n",
       "       'coco_a', 'teas_a', 'toba_a', 'bana_a', 'plnt_a', 'trof_a', 'temf_a',\n",
       "       'vege_a', 'rest_a', 'total_a', 'cere_a', 'root_a', 'puls_a', 'oilc_a',\n",
       "       'mill_a', 'coff_a', 'fruit_a', 'banpl_a', 'crea_date', 'year_data',\n",
       "       'source', 'name_cntr', 'name_adm1', 'name_adm2'],\n",
       "      dtype='object')"
      ]
     },
     "execution_count": 2,
     "metadata": {},
     "output_type": "execute_result"
    }
   ],
   "source": [
    "SPAM_database_df.columns"
   ]
  },
  {
   "cell_type": "code",
   "execution_count": 3,
   "metadata": {},
   "outputs": [],
   "source": [
    "# Keep only Benin - filter rows using Pandas chaining?\n",
    "BEN_SPAM_df = SPAM_database_df[SPAM_database_df.name_cntr.eq(\"Benin\")]"
   ]
  },
  {
   "cell_type": "raw",
   "metadata": {},
   "source": [
    "BEN_SPAM_df.columns"
   ]
  },
  {
   "cell_type": "code",
   "execution_count": 5,
   "metadata": {},
   "outputs": [],
   "source": [
    "# Keeping only columns indicating harv area for maize \n",
    "Maize_BEN_SPAM_df = BEN_SPAM_df[BEN_SPAM_df['maiz_a'] >= 0]\n",
    "\n",
    "# Filtering out any NaN values\n",
    "Maize_BEN_SPAM_df = Maize_BEN_SPAM_df[Maize_BEN_SPAM_df.maiz_a.notnull()]\n",
    "\n",
    "# droping other crop or an-necessary columns\n",
    "Maize_BEN_SPAM_df = Maize_BEN_SPAM_df.drop(['iso3', 'prod_level','cell5m','rec_type',\n",
    "       'tech_type', 'unit', 'whea_a', 'rice_a','barl_a', 'pmil_a',\n",
    "       'smil_a', 'sorg_a', 'ocer_a', 'pota_a', 'swpo_a', 'yams_a', 'cass_a',\n",
    "       'orts_a', 'bean_a', 'chic_a', 'cowp_a', 'pige_a', 'lent_a', 'opul_a',\n",
    "       'soyb_a', 'grou_a', 'cnut_a', 'oilp_a', 'sunf_a', 'rape_a', 'sesa_a',\n",
    "       'ooil_a', 'sugc_a', 'sugb_a', 'cott_a', 'ofib_a', 'acof_a', 'rcof_a',\n",
    "       'coco_a', 'teas_a', 'toba_a', 'bana_a', 'plnt_a', 'trof_a', 'temf_a',\n",
    "       'vege_a', 'rest_a', 'total_a', 'cere_a', 'root_a', 'puls_a', 'oilc_a',\n",
    "       'mill_a', 'coff_a', 'fruit_a', 'banpl_a', 'crea_date', 'source', 'name_cntr', 'name_adm1', 'year_data'], axis=1)"
   ]
  },
  {
   "cell_type": "code",
   "execution_count": 6,
   "metadata": {},
   "outputs": [
    {
     "data": {
      "text/html": [
       "<div>\n",
       "<style scoped>\n",
       "    .dataframe tbody tr th:only-of-type {\n",
       "        vertical-align: middle;\n",
       "    }\n",
       "\n",
       "    .dataframe tbody tr th {\n",
       "        vertical-align: top;\n",
       "    }\n",
       "\n",
       "    .dataframe thead th {\n",
       "        text-align: right;\n",
       "    }\n",
       "</style>\n",
       "<table border=\"1\" class=\"dataframe\">\n",
       "  <thead>\n",
       "    <tr style=\"text-align: right;\">\n",
       "      <th></th>\n",
       "      <th>alloc_key</th>\n",
       "      <th>x</th>\n",
       "      <th>y</th>\n",
       "      <th>maiz_a</th>\n",
       "      <th>name_adm2</th>\n",
       "    </tr>\n",
       "  </thead>\n",
       "  <tbody>\n",
       "    <tr>\n",
       "      <th>14249</th>\n",
       "      <td>9322194</td>\n",
       "      <td>2.791667</td>\n",
       "      <td>12.375000</td>\n",
       "      <td>144.5</td>\n",
       "      <td>Karimama</td>\n",
       "    </tr>\n",
       "    <tr>\n",
       "      <th>14250</th>\n",
       "      <td>9322195</td>\n",
       "      <td>2.875000</td>\n",
       "      <td>12.375000</td>\n",
       "      <td>370.9</td>\n",
       "      <td>Karimama</td>\n",
       "    </tr>\n",
       "    <tr>\n",
       "      <th>14731</th>\n",
       "      <td>9332194</td>\n",
       "      <td>2.791667</td>\n",
       "      <td>12.291667</td>\n",
       "      <td>92.5</td>\n",
       "      <td>Karimama</td>\n",
       "    </tr>\n",
       "    <tr>\n",
       "      <th>14732</th>\n",
       "      <td>9332195</td>\n",
       "      <td>2.875000</td>\n",
       "      <td>12.291667</td>\n",
       "      <td>49.6</td>\n",
       "      <td>Karimama</td>\n",
       "    </tr>\n",
       "  </tbody>\n",
       "</table>\n",
       "</div>"
      ],
      "text/plain": [
       "       alloc_key         x          y  maiz_a name_adm2\n",
       "14249    9322194  2.791667  12.375000   144.5  Karimama\n",
       "14250    9322195  2.875000  12.375000   370.9  Karimama\n",
       "14731    9332194  2.791667  12.291667    92.5  Karimama\n",
       "14732    9332195  2.875000  12.291667    49.6  Karimama"
      ]
     },
     "execution_count": 6,
     "metadata": {},
     "output_type": "execute_result"
    }
   ],
   "source": [
    "Maize_BEN_SPAM_df.head(4)"
   ]
  },
  {
   "cell_type": "code",
   "execution_count": 7,
   "metadata": {},
   "outputs": [],
   "source": [
    "# Adding few columns as needed\n",
    "\n",
    "Maize_BEN_SPAM_df[\"Crop\"] = \"Maize\"\n",
    "Maize_BEN_SPAM_df[\"Fraction\"] = 1"
   ]
  },
  {
   "cell_type": "code",
   "execution_count": 11,
   "metadata": {},
   "outputs": [],
   "source": [
    "# Rename columns as needed for agrodem process\n",
    "\n",
    "Maize_BEN_SPAM_df.rename(columns={\"alloc_key\": \"Pixel\", \n",
    "                                  \"x\": \"lon\", \n",
    "                                  \"y\": \"lat\", \n",
    "                                  \"maiz_a\": \"CropArea\", \n",
    "                                  \"name_adm2\": \"State\"},inplace = True)"
   ]
  },
  {
   "cell_type": "code",
   "execution_count": 12,
   "metadata": {},
   "outputs": [
    {
     "data": {
      "text/plain": [
       "Index(['Pixel', 'lon', 'lat', 'CropArea', 'State', 'Crop', 'Fraction'], dtype='object')"
      ]
     },
     "execution_count": 12,
     "metadata": {},
     "output_type": "execute_result"
    }
   ],
   "source": [
    "Maize_BEN_SPAM_df.columns"
   ]
  },
  {
   "cell_type": "code",
   "execution_count": 14,
   "metadata": {},
   "outputs": [],
   "source": [
    "# Define output path\n",
    "#path = r\"N:\\Agrodem\\Irrigation_model\\Input_data\"\n",
    "path = r\"C:\\Benin\\agrodem_preprocessing\\QGIS_input_SPAM\"\n",
    "csvname = \"SPAM_Benin_Maize_Harv_2017_admin2_10km.csv\"\n",
    "\n",
    "#drybeans\n",
    "Maize_BEN_SPAM_df.to_csv(os.path.join(path,\"{c}\".format(c=csvname)), index=False)"
   ]
  },
  {
   "cell_type": "code",
   "execution_count": null,
   "metadata": {},
   "outputs": [],
   "source": [
    "## Create a sample dataset\n",
    "#sample_crop_df = sample_crop_df.sample(1000)"
   ]
  }
 ],
 "metadata": {
  "kernelspec": {
   "display_name": "Python 3",
   "language": "python",
   "name": "python3"
  },
  "language_info": {
   "codemirror_mode": {
    "name": "ipython",
    "version": 3
   },
   "file_extension": ".py",
   "mimetype": "text/x-python",
   "name": "python",
   "nbconvert_exporter": "python",
   "pygments_lexer": "ipython3",
   "version": "3.7.6"
  }
 },
 "nbformat": 4,
 "nbformat_minor": 1
}
