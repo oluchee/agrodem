{
 "cells": [
  {
   "cell_type": "markdown",
   "metadata": {},
   "source": [
    "# Agrodem\n",
    "\n",
    "A python tool for estimating water and electricity demand for irrigation. \n",
    "\n",
    "**Original code:** [Konstantinos Pegios](https://github.com/kopegios) <br />\n",
    "**Conceptualization & Methodological review :** [Alexandros Korkovelos](https://github.com/akorkovelos) & [Konstantinos Pegios](https://github.com/kopegios)<br />\n",
    "**Updates, Modifications:** [Alexandros Korkovelos](https://github.com/akorkovelos), [Youssef Almulla](https://github.com/JZF07) & [Camilo Ramírez](https://github.com/camiloramirezgo) <br />\n",
    "**Funding:** The World Bank (contract number: 7190531), [KTH](https://www.kth.se/en/itm/inst/energiteknik/forskning/desa/welcome-to-the-unit-of-energy-systems-analysis-kth-desa-1.197296)"
   ]
  },
  {
   "cell_type": "markdown",
   "metadata": {},
   "source": [
    "## Import modules required"
   ]
  },
  {
   "cell_type": "code",
   "execution_count": 178,
   "metadata": {},
   "outputs": [],
   "source": [
    "import pandas as pd\n",
    "from datetime import datetime\n",
    "import pyeto\n",
    "import numpy as np\n",
    "import ast       \n",
    "import math\n",
    "import xlrd\n",
    "from ast import literal_eval  \n",
    "from pandas import DataFrame\n",
    "from scipy.interpolate import interp1d\n",
    "import dateutil     #dateutil module provides powerful extensions to the standard datetime module\n",
    "from dateutil import parser  #This module offers reads the given date in string and convert it to date format or timestamps,it represent a date and/or time from most known formats \n",
    "import os\n",
    "from tkinter import filedialog, messagebox\n",
    "import matplotlib.pyplot as plt\n",
    "import folium\n",
    "import branca.colormap as cm\n",
    "import json\n",
    "import xlsxwriter\n",
    "from IPython.display import display, Markdown, HTML\n",
    "#from plotly.offline import iplot, init_notebook_mode\n",
    "#init_notebook_mode()\n",
    "\n",
    "#import plotly.graph_objs as go\n",
    "\n",
    "# note that pyeto is available here https://github.com/woodcrafty/PyETo.git\n",
    "from pyeto import fao\n",
    "\n",
    "%matplotlib inline\n",
    "\n",
    "math.exp = np.exp\n",
    "math.pow = np.power\n",
    "math.sqrt = np.sqrt"
   ]
  },
  {
   "cell_type": "markdown",
   "metadata": {},
   "source": [
    "#### Define crop & scenario"
   ]
  },
  {
   "cell_type": "code",
   "execution_count": 179,
   "metadata": {},
   "outputs": [],
   "source": [
    "# Crop name and scenario\n",
    "cropname = \"Yam\"\n",
    "scenarioname = \"2018_1km\""
   ]
  },
  {
   "cell_type": "markdown",
   "metadata": {},
   "source": [
    "## Part 1 - Biophysical characteristics"
   ]
  },
  {
   "cell_type": "markdown",
   "metadata": {},
   "source": [
    "### Importing input dataset from GIS "
   ]
  },
  {
   "cell_type": "markdown",
   "metadata": {},
   "source": [
    "The following biophysical characteristics are necessary inputs to the irrigation model. A more elaborate description of the preparation of such data is available in supporting [documentation](https://agrodem.readthedocs.io/en/latest/Overview.html). Code is also availble in the ```GIS preparation``` sub-folder of this repo. \n",
    "\n",
    "* country (name)\n",
    "* state (name - admin 1 or 2)\n",
    "* lat, lon (deg)\n",
    "* crop (name - modelling crop)\n",
    "* Fraction (%)                              \n",
    "* harv_area (harvested area in ha)                                 \n",
    "* curr_yield (Current yield in kg/ha)                                \n",
    "* max_yield (Maximun yield in kg/ha)\n",
    "* gw_depth (Ground water depth in m)\n",
    "* sw_dist (Distance to surface water in m)\n",
    "* sw_depth (elevation of the nearest surface water source)\n",
    "* elevation (in m)\n",
    "* awsc (Water storage capacity of the soil in mm/m)                         \n",
    "* sw_suit_idx (Surface irrigation suitability index: 1= suitable 9999= non suitable)\n",
    "* prec_i (Average precipitation in mm/month; i=1-12)\n",
    "* srad_i (Average solar irradiation per month in kJ m-2 day-1; i=1-12)\n",
    "* wind_i (Average wind speed per month in m s-1; i=1-12)\n",
    "* tavg_i, tmax_i, tmin_i(Average, Max, Min temperature per month in C; i=1-12)"
   ]
  },
  {
   "cell_type": "markdown",
   "metadata": {},
   "source": [
    "<div class=\"alert alert-block alert-warning\">\n",
    "    <b>Note:</b> The supporting file <b>Pilot_Moz_Maize_Sample_1km.csv</b> used below is a sample dataset of 1000 randomly selected locations around Mozambique.\n",
    "</div>"
   ]
  },
  {
   "cell_type": "code",
   "execution_count": 180,
   "metadata": {},
   "outputs": [
    {
     "data": {
      "text/html": [
       "<div>\n",
       "<style scoped>\n",
       "    .dataframe tbody tr th:only-of-type {\n",
       "        vertical-align: middle;\n",
       "    }\n",
       "\n",
       "    .dataframe tbody tr th {\n",
       "        vertical-align: top;\n",
       "    }\n",
       "\n",
       "    .dataframe thead th {\n",
       "        text-align: right;\n",
       "    }\n",
       "</style>\n",
       "<table border=\"1\" class=\"dataframe\">\n",
       "  <thead>\n",
       "    <tr style=\"text-align: right;\">\n",
       "      <th></th>\n",
       "      <th>Pixel</th>\n",
       "      <th>State</th>\n",
       "      <th>lon</th>\n",
       "      <th>lat</th>\n",
       "      <th>Crop</th>\n",
       "      <th>Fraction</th>\n",
       "      <th>harv_area</th>\n",
       "      <th>sw_depth</th>\n",
       "      <th>sw_dist</th>\n",
       "      <th>sw_suit</th>\n",
       "      <th>...</th>\n",
       "      <th>wind_4</th>\n",
       "      <th>wind_5</th>\n",
       "      <th>wind_6</th>\n",
       "      <th>wind_7</th>\n",
       "      <th>wind_8</th>\n",
       "      <th>wind_9</th>\n",
       "      <th>wind_10</th>\n",
       "      <th>wind_11</th>\n",
       "      <th>wind_12</th>\n",
       "      <th>gw_depth</th>\n",
       "    </tr>\n",
       "  </thead>\n",
       "  <tbody>\n",
       "    <tr>\n",
       "      <th>0</th>\n",
       "      <td>0</td>\n",
       "      <td>Banikoara</td>\n",
       "      <td>2.34</td>\n",
       "      <td>11.66</td>\n",
       "      <td>Yams</td>\n",
       "      <td>0.00</td>\n",
       "      <td>0.50</td>\n",
       "      <td>247</td>\n",
       "      <td>0.10</td>\n",
       "      <td>1</td>\n",
       "      <td>...</td>\n",
       "      <td>2.40</td>\n",
       "      <td>2.60</td>\n",
       "      <td>2.60</td>\n",
       "      <td>2.30</td>\n",
       "      <td>1.80</td>\n",
       "      <td>1.40</td>\n",
       "      <td>1.70</td>\n",
       "      <td>1.80</td>\n",
       "      <td>2.30</td>\n",
       "      <td>-0.00</td>\n",
       "    </tr>\n",
       "    <tr>\n",
       "      <th>1</th>\n",
       "      <td>1</td>\n",
       "      <td>Banikoara</td>\n",
       "      <td>2.35</td>\n",
       "      <td>11.66</td>\n",
       "      <td>Yams</td>\n",
       "      <td>0.01</td>\n",
       "      <td>1.16</td>\n",
       "      <td>252</td>\n",
       "      <td>0.48</td>\n",
       "      <td>1</td>\n",
       "      <td>...</td>\n",
       "      <td>2.40</td>\n",
       "      <td>2.60</td>\n",
       "      <td>2.60</td>\n",
       "      <td>2.30</td>\n",
       "      <td>1.90</td>\n",
       "      <td>1.40</td>\n",
       "      <td>1.70</td>\n",
       "      <td>1.80</td>\n",
       "      <td>2.30</td>\n",
       "      <td>-0.00</td>\n",
       "    </tr>\n",
       "    <tr>\n",
       "      <th>2</th>\n",
       "      <td>2</td>\n",
       "      <td>Banikoara</td>\n",
       "      <td>2.36</td>\n",
       "      <td>11.66</td>\n",
       "      <td>Yams</td>\n",
       "      <td>0.00</td>\n",
       "      <td>0.46</td>\n",
       "      <td>252</td>\n",
       "      <td>1.17</td>\n",
       "      <td>1</td>\n",
       "      <td>...</td>\n",
       "      <td>2.40</td>\n",
       "      <td>2.60</td>\n",
       "      <td>2.50</td>\n",
       "      <td>2.30</td>\n",
       "      <td>1.80</td>\n",
       "      <td>1.50</td>\n",
       "      <td>1.70</td>\n",
       "      <td>1.80</td>\n",
       "      <td>2.30</td>\n",
       "      <td>1.72</td>\n",
       "    </tr>\n",
       "    <tr>\n",
       "      <th>3</th>\n",
       "      <td>3</td>\n",
       "      <td>Banikoara</td>\n",
       "      <td>2.37</td>\n",
       "      <td>11.66</td>\n",
       "      <td>Yams</td>\n",
       "      <td>0.01</td>\n",
       "      <td>0.61</td>\n",
       "      <td>258</td>\n",
       "      <td>1.26</td>\n",
       "      <td>1</td>\n",
       "      <td>...</td>\n",
       "      <td>2.40</td>\n",
       "      <td>2.60</td>\n",
       "      <td>2.50</td>\n",
       "      <td>2.40</td>\n",
       "      <td>1.90</td>\n",
       "      <td>1.50</td>\n",
       "      <td>1.70</td>\n",
       "      <td>1.80</td>\n",
       "      <td>2.40</td>\n",
       "      <td>2.63</td>\n",
       "    </tr>\n",
       "    <tr>\n",
       "      <th>4</th>\n",
       "      <td>4</td>\n",
       "      <td>Banikoara</td>\n",
       "      <td>2.38</td>\n",
       "      <td>11.66</td>\n",
       "      <td>Yams</td>\n",
       "      <td>0.01</td>\n",
       "      <td>0.90</td>\n",
       "      <td>257</td>\n",
       "      <td>1.26</td>\n",
       "      <td>1</td>\n",
       "      <td>...</td>\n",
       "      <td>2.40</td>\n",
       "      <td>2.60</td>\n",
       "      <td>2.50</td>\n",
       "      <td>2.40</td>\n",
       "      <td>1.90</td>\n",
       "      <td>1.50</td>\n",
       "      <td>1.70</td>\n",
       "      <td>1.80</td>\n",
       "      <td>2.40</td>\n",
       "      <td>6.25</td>\n",
       "    </tr>\n",
       "  </tbody>\n",
       "</table>\n",
       "<p>5 rows × 89 columns</p>\n",
       "</div>"
      ],
      "text/plain": [
       "   Pixel      State  lon   lat  Crop  Fraction  harv_area  sw_depth  sw_dist  \\\n",
       "0      0  Banikoara 2.34 11.66  Yams      0.00       0.50       247     0.10   \n",
       "1      1  Banikoara 2.35 11.66  Yams      0.01       1.16       252     0.48   \n",
       "2      2  Banikoara 2.36 11.66  Yams      0.00       0.46       252     1.17   \n",
       "3      3  Banikoara 2.37 11.66  Yams      0.01       0.61       258     1.26   \n",
       "4      4  Banikoara 2.38 11.66  Yams      0.01       0.90       257     1.26   \n",
       "\n",
       "   sw_suit  ... wind_4  wind_5  wind_6  wind_7  wind_8  wind_9  wind_10  \\\n",
       "0        1  ...   2.40    2.60    2.60    2.30    1.80    1.40     1.70   \n",
       "1        1  ...   2.40    2.60    2.60    2.30    1.90    1.40     1.70   \n",
       "2        1  ...   2.40    2.60    2.50    2.30    1.80    1.50     1.70   \n",
       "3        1  ...   2.40    2.60    2.50    2.40    1.90    1.50     1.70   \n",
       "4        1  ...   2.40    2.60    2.50    2.40    1.90    1.50     1.70   \n",
       "\n",
       "   wind_11  wind_12  gw_depth  \n",
       "0     1.80     2.30     -0.00  \n",
       "1     1.80     2.30     -0.00  \n",
       "2     1.80     2.30      1.72  \n",
       "3     1.80     2.40      2.63  \n",
       "4     1.80     2.40      6.25  \n",
       "\n",
       "[5 rows x 89 columns]"
      ]
     },
     "execution_count": 180,
     "metadata": {},
     "output_type": "execute_result"
    }
   ],
   "source": [
    "# Import data \n",
    "\n",
    "# Path and name of crop allocation file\n",
    "#path = r\"C:\\Users\\alekor\\Desktop\\GithubFolder\\agrodem\\agrodem_sample_input_data\"     ## directory of input crop file\n",
    "#name_of_file = \"Pilot_Moz_Maize_Sample_1km.csv\"\n",
    "path = r\"C:\\Benin\\agrodem_preprocessing\\Agrodem_prepping_output\"\n",
    "name_of_file = \"agrodem_input_yam.csv\"\n",
    "\n",
    "# Import csv as pandas dataframe\n",
    "df = pd.read_csv(path + \"\\\\\" + name_of_file)\n",
    "\n",
    "df.head(5)"
   ]
  },
  {
   "cell_type": "code",
   "execution_count": 181,
   "metadata": {},
   "outputs": [
    {
     "data": {
      "text/plain": [
       "Index(['Pixel', 'State', 'lon', 'lat', 'Crop', 'Fraction', 'harv_area',\n",
       "       'sw_depth', 'sw_dist', 'sw_suit', 'country', 'curr_yield', 'max_yield',\n",
       "       'field_1', 'elevation', 'awsc', 'prec_1', 'prec_2', 'prec_3', 'prec_4',\n",
       "       'prec_5', 'prec_6', 'prec_7', 'prec_8', 'prec_9', 'prec_10', 'prec_11',\n",
       "       'prec_12', 'srad_1', 'srad_2', 'srad_3', 'srad_4', 'srad_5', 'srad_6',\n",
       "       'srad_7', 'srad_8', 'srad_9', 'srad_10', 'srad_11', 'srad_12', 'tavg_1',\n",
       "       'tavg_2', 'tavg_3', 'tavg_4', 'tavg_5', 'tavg_6', 'tavg_7', 'tavg_8',\n",
       "       'tavg_9', 'tavg_10', 'tavg_11', 'tavg_12', 'tmax_1', 'tmax_2', 'tmax_3',\n",
       "       'tmax_4', 'tmax_5', 'tmax_6', 'tmax_7', 'tmax_8', 'tmax_9', 'tmax_10',\n",
       "       'tmax_11', 'tmax_12', 'tmin_1', 'tmin_2', 'tmin_3', 'tmin_4', 'tmin_5',\n",
       "       'tmin_6', 'tmin_7', 'tmin_8', 'tmin_9', 'tmin_10', 'tmin_11', 'tmin_12',\n",
       "       'wind_1', 'wind_2', 'wind_3', 'wind_4', 'wind_5', 'wind_6', 'wind_7',\n",
       "       'wind_8', 'wind_9', 'wind_10', 'wind_11', 'wind_12', 'gw_depth'],\n",
       "      dtype='object')"
      ]
     },
     "execution_count": 181,
     "metadata": {},
     "output_type": "execute_result"
    }
   ],
   "source": [
    "df.columns\n"
   ]
  },
  {
   "cell_type": "markdown",
   "metadata": {},
   "source": [
    "### Calculating \n",
    "\n",
    "* Reference evapotranspiration (ETo)\n",
    "* Crop coefficient (kc)\n",
    "* Crop evaporotransiration (ETc)\n",
    "* Effective rainfall (eff)"
   ]
  },
  {
   "cell_type": "markdown",
   "metadata": {},
   "source": [
    "### Reference evapotranspiration (ETo)\n",
    "\n",
    "ETo is estimated based on FAO's **Penman-Monteith** formula. The reference evapotranspiration, ETo, provides a standard to which:\n",
    "\n",
    "* evapotranspiration at different periods of the year or in other regions can be compared\n",
    "* evapotranspiration of other crops can be related\n",
    "\n",
    "**Sources**\n",
    "- [FAO Irrigation and Drainage Paper No. 56, Chapter 2](http://www.fao.org/3/X0490E/x0490e06.htm) \n",
    "- [Andreas P. SAVVA Karen FRENKEN, \"Irrigation manual\", Volume 1, Module 4](http://www.fao.org/tempref/agl/AGLW/ESPIM/CD-ROM/documents/7I1_e.pdf)\n",
    "- [Lincoln Zotarelli, Michael D. Dukes, Consuelo C. Romero, Kati W. Migliaccio, and Kelly T.\n",
    "Morgan, \"Step by Step Calculation of the Penman-Monteith\n",
    "Evapotranspiration (FAO-56 Method)\"](http://www.agraria.unirc.it/documentazione/materiale_didattico/1462_2016_412_24509.pdf)\n",
    "- [Richard G. ALLEN et al., \"Crop evapotranspiration - Guidelines for computing crop water\n",
    "requirements - FAO Irrigation and drainage paper 56\"](https://appgeodb.nancy.inra.fr/biljou/pdf/Allen_FAO1998.pdf)\n",
    "\n",
    "--------------------------------------------------------------------------------------------------------------"
   ]
  },
  {
   "cell_type": "code",
   "execution_count": 182,
   "metadata": {},
   "outputs": [],
   "source": [
    "# Defining function\n",
    "def evap_i(lat,elev,wind,srad,tmin,tmax,tavg,month):\n",
    "    if month ==1:\n",
    "        J = 15\n",
    "    else:\n",
    "        J = 15 + (month-1)*30\n",
    "        \n",
    "    latitude = pyeto.deg2rad(lat)\n",
    "    atmosphericVapourPressure = pyeto.avp_from_tmin(tmin)\n",
    "    saturationVapourPressure = pyeto.svp_from_t(tavg)\n",
    "    ird = pyeto.inv_rel_dist_earth_sun(J)\n",
    "    solarDeclination = pyeto.sol_dec(J)\n",
    "    sha = [pyeto.sunset_hour_angle(l, solarDeclination) for l in latitude]\n",
    "    extraterrestrialRad = [pyeto.et_rad(x, solarDeclination,y,ird) for x, y in zip(latitude,sha)]\n",
    "    clearSkyRad = pyeto.cs_rad(elev,extraterrestrialRad)\n",
    "    netInSolRadnet = pyeto.net_in_sol_rad(srad*0.001, albedo=0.23)\n",
    "    netOutSolRadnet = pyeto.net_out_lw_rad(tmin, tmax, srad*0.001, clearSkyRad, atmosphericVapourPressure)\n",
    "    netRadiation = pyeto.net_rad(netInSolRadnet,netOutSolRadnet)\n",
    "    tempKelvin = pyeto.celsius2kelvin(tavg)\n",
    "    windSpeed2m = wind\n",
    "    slopeSvp = pyeto.delta_svp(tavg)\n",
    "    atmPressure = pyeto.atm_pressure(elev)\n",
    "    psyConstant = pyeto.psy_const(atmPressure)\n",
    "    \n",
    "    return pyeto.fao56_penman_monteith(netRadiation, tempKelvin, windSpeed2m, saturationVapourPressure, atmosphericVapourPressure, slopeSvp, psyConstant, shf=0.0)\n",
    "\n",
    "#Initiate\n",
    "for i in range(1,13):\n",
    "    df['ETo_{}'.format(i)]=0  ##To make sure that it is reset to zero\n",
    "\n",
    "# calculate ETo for each row for each month \n",
    "# range(1,13) and .format(i): to generate monthly calculation of ETo\n",
    "for i in range(1,13):\n",
    "    df['ETo_{}'.format(i)] = evap_i(df['lat'],df['elevation'],df['wind_{}'.format(i)],df['srad_{}'.format(i)],df['tmin_{}'.format(i)],df['tmax_{}'.format(i)],df['tavg_{}'.format(i)],i)"
   ]
  },
  {
   "cell_type": "markdown",
   "metadata": {},
   "source": [
    "### Define rainfall pattern (unimodal vs bimodal vs trimodal)\n",
    "\n",
    "For this example we assume that unimodal pattern for the whole study area, which means it has one raining season only. \n",
    "\n",
    "--------------------------------------------------------------------------------------------------------------"
   ]
  },
  {
   "cell_type": "code",
   "execution_count": 183,
   "metadata": {},
   "outputs": [
    {
     "data": {
      "text/plain": [
       "array(['Banikoara', 'Gogounou', 'Kandi', 'Kerou', 'Pehonko', 'Bembereke',\n",
       "       'Kalale', 'Sinende', 'Boukoumbe', 'Kouande', 'Tanguieta',\n",
       "       'Copargo', 'Materi', 'Nikki', 'Perere', 'Parakou', 'Bante',\n",
       "       'Glazoue', 'Savalou', 'Dassa', 'Save', 'Ketou', 'Djidja',\n",
       "       'Zangnanado', 'Ouesse', 'Ouake', 'Aplahoue', 'Lalo',\n",
       "       'Agbangnizoun', 'Zogbodome', 'Bonou', 'Sakete', 'Pobe', 'Ouinhi',\n",
       "       'Ifangni', 'Abomey', 'Bohicon'], dtype=object)"
      ]
     },
     "execution_count": 183,
     "metadata": {},
     "output_type": "execute_result"
    }
   ],
   "source": [
    "# See all states included in the input file\n",
    "df.State.unique()"
   ]
  },
  {
   "cell_type": "code",
   "execution_count": 184,
   "metadata": {},
   "outputs": [],
   "source": [
    "path = r\"C:\\Oluchi\\Benin\"\n",
    "name_of_file = \"Maize_Crop_Benin_regions.xlsx\"\n",
    "\n",
    "# Import csv as pandas dataframe\n",
    "df_1 = pd.read_excel(path + \"\\\\\" + name_of_file)"
   ]
  },
  {
   "cell_type": "code",
   "execution_count": 185,
   "metadata": {},
   "outputs": [
    {
     "data": {
      "text/html": [
       "<div>\n",
       "<style scoped>\n",
       "    .dataframe tbody tr th:only-of-type {\n",
       "        vertical-align: middle;\n",
       "    }\n",
       "\n",
       "    .dataframe tbody tr th {\n",
       "        vertical-align: top;\n",
       "    }\n",
       "\n",
       "    .dataframe thead th {\n",
       "        text-align: right;\n",
       "    }\n",
       "</style>\n",
       "<table border=\"1\" class=\"dataframe\">\n",
       "  <thead>\n",
       "    <tr style=\"text-align: right;\">\n",
       "      <th></th>\n",
       "      <th>region_1</th>\n",
       "      <th>region_2</th>\n",
       "      <th>region_3</th>\n",
       "      <th>region_4</th>\n",
       "      <th>region_5</th>\n",
       "      <th>region_6</th>\n",
       "      <th>region_7</th>\n",
       "      <th>region_8</th>\n",
       "    </tr>\n",
       "  </thead>\n",
       "  <tbody>\n",
       "    <tr>\n",
       "      <th>0</th>\n",
       "      <td>Allada</td>\n",
       "      <td>Segbana</td>\n",
       "      <td>Bassila</td>\n",
       "      <td>Toffo</td>\n",
       "      <td>Karimama</td>\n",
       "      <td>Ouidah</td>\n",
       "      <td>Pehonko</td>\n",
       "      <td>Ouake</td>\n",
       "    </tr>\n",
       "    <tr>\n",
       "      <th>1</th>\n",
       "      <td>Ze</td>\n",
       "      <td>Banikoara</td>\n",
       "      <td>Tchaourou</td>\n",
       "      <td>Lalo</td>\n",
       "      <td>Malanville</td>\n",
       "      <td>Abomey-Calavi</td>\n",
       "      <td>Parakou</td>\n",
       "      <td>Copargo</td>\n",
       "    </tr>\n",
       "    <tr>\n",
       "      <th>2</th>\n",
       "      <td>Tori-bossito</td>\n",
       "      <td>Gogounou</td>\n",
       "      <td>Ketou</td>\n",
       "      <td>Adja-ouere</td>\n",
       "      <td>NaN</td>\n",
       "      <td>So-ava</td>\n",
       "      <td>N'Dali</td>\n",
       "      <td>Djougou</td>\n",
       "    </tr>\n",
       "    <tr>\n",
       "      <th>3</th>\n",
       "      <td>Kpomasse</td>\n",
       "      <td>Kouande</td>\n",
       "      <td>NaN</td>\n",
       "      <td>Pobe</td>\n",
       "      <td>NaN</td>\n",
       "      <td>Lokossa</td>\n",
       "      <td>Perere</td>\n",
       "      <td>Tanguieta</td>\n",
       "    </tr>\n",
       "    <tr>\n",
       "      <th>4</th>\n",
       "      <td>Djakotome</td>\n",
       "      <td>Kerou</td>\n",
       "      <td>NaN</td>\n",
       "      <td>NaN</td>\n",
       "      <td>NaN</td>\n",
       "      <td>Athieme</td>\n",
       "      <td>Nikki</td>\n",
       "      <td>Cobly</td>\n",
       "    </tr>\n",
       "  </tbody>\n",
       "</table>\n",
       "</div>"
      ],
      "text/plain": [
       "       region_1   region_2   region_3    region_4    region_5       region_6  \\\n",
       "0        Allada    Segbana    Bassila       Toffo    Karimama         Ouidah   \n",
       "1            Ze  Banikoara  Tchaourou        Lalo  Malanville  Abomey-Calavi   \n",
       "2  Tori-bossito   Gogounou      Ketou  Adja-ouere         NaN         So-ava   \n",
       "3      Kpomasse    Kouande        NaN        Pobe         NaN        Lokossa   \n",
       "4     Djakotome      Kerou        NaN         NaN         NaN        Athieme   \n",
       "\n",
       "  region_7   region_8  \n",
       "0  Pehonko      Ouake  \n",
       "1  Parakou    Copargo  \n",
       "2   N'Dali   Djougou   \n",
       "3   Perere  Tanguieta  \n",
       "4    Nikki      Cobly  "
      ]
     },
     "execution_count": 185,
     "metadata": {},
     "output_type": "execute_result"
    }
   ],
   "source": [
    "df_1.head()"
   ]
  },
  {
   "cell_type": "code",
   "execution_count": 186,
   "metadata": {},
   "outputs": [],
   "source": [
    "# Classify states per region (example on \"Pilot_Input_Crop_Calendar.xlsx\" )\n",
    "list_of_counties_region_1= list(df_1['region_1']) \n",
    "list_of_counties_region_2 = list(df_1['region_2'])\n",
    "list_of_counties_region_3 = list(df_1['region_3'])\n",
    "list_of_counties_region_4 = list(df_1['region_4'])\n",
    "list_of_counties_region_5 = list(df_1['region_5'])\n",
    "list_of_counties_region_6 = list(df_1['region_6'])\n",
    "list_of_counties_region_7 = list(df_1['region_7'])\n",
    "list_of_counties_region_8 = list(df_1['region_8'])"
   ]
  },
  {
   "cell_type": "code",
   "execution_count": 187,
   "metadata": {},
   "outputs": [],
   "source": [
    "# Run this and the model will do the assignment\n",
    "\n",
    "#df['Mode']=('region_1')\n",
    "df['Mode'] = [\"region_1\" if x in list_of_counties_region_1 else\n",
    "              (\"region_2\" if x in list_of_counties_region_2 else\n",
    "               (\"region_3\" if x in list_of_counties_region_3 else\n",
    "                \"region_4\" if x in list_of_counties_region_4 else \n",
    "                \"region_5\" if x in list_of_counties_region_5 else\n",
    "                \"region_6\" if x in list_of_counties_region_6 else\n",
    "                \"region_7\" if x in list_of_counties_region_7 else\n",
    "                \"region_8\" if x in list_of_counties_region_8 else\"region_unknown\")) for x in df['State']]"
   ]
  },
  {
   "cell_type": "markdown",
   "metadata": {},
   "source": [
    "### Calculate kc based on the different growth stages\n",
    "\n",
    "Note that the user shall define the kc values for different stages of a crop. In this case values of 0.8, 0.9, 1 and 0.8 were used for the 4 growth stages of cassava. Source is available [here](http://www.fao.org/3/X0490E/x0490e0b.htm).\n",
    "\n",
    "**Other sources**\n",
    "- [Fatemeh Aghdasi, \"Crop Water Requirement Assessment..\"](https://webapps.itc.utwente.nl/librarywww/papers_2010/msc/wrem/aghdasi.pdf), 2010\n",
    "- [FAO Irrigation potential in Africa Chapter 3\"](http://www.fao.org/3/S2022E/s2022e07.htm)"
   ]
  },
  {
   "cell_type": "code",
   "execution_count": 188,
   "metadata": {},
   "outputs": [],
   "source": [
    "# Import sample crop calendar and its file name\n",
    "#calendar_path = r\"C:\\Users\\alekor\\Desktop\\GithubFolder\\agrodem\\agrodem_sample_input_data\"\n",
    "#name_of_file = \"Pilot_Input_Crop_Calendar_Maize.xlsx\"\n",
    "calendar_path = r\"C:\\Oluchi\\Benin\"\n",
    "name_of_file = \"Yam_Crop_Calendar.xlsx\""
   ]
  },
  {
   "cell_type": "code",
   "execution_count": 189,
   "metadata": {},
   "outputs": [],
   "source": [
    "# Define kc function and its attributes\n",
    "\n",
    "def kc(plantation,Li,Ld,Lm,Le,kci,kcd,kcm,kce,isodate): \n",
    "    \n",
    "    \"\"\"\n",
    "Each crop goes through four growing stages: initial - development - mid-season and end-season (check FAO-56 chapter 6 for more details)\n",
    "\n",
    "Inputs:\n",
    "Plantation = plantation datetime \n",
    "Li = length of the initial stage (in days)\n",
    "Ld = length of the development stage (in days)\n",
    "Lm = length of the mid-season stage (in days)\n",
    "Le = length of the end-season stage (in days)\n",
    "\n",
    "kci = crop coefficient 'kc' at the initial stage. In this stage the ckc value is constant and equal to kci\n",
    "kcm = crop coefficient 'kc' at the mid-season stage.  In this stage the ckc value is constant and equal to kcm\n",
    "kce = crop coefficient 'kc' at the end-season stage. In this stege the ckc value varies linearly between kce and kcm (check equation 66 - page 132, FAO56). \n",
    "isodate = current date (optional)\n",
    "\n",
    "Outputs: \n",
    "* ckc : current crop coefficient, which is constant in the initial and mid-season stages and varies linearly in the development (increasing) and end-season (declining) stages. \n",
    "\n",
    "Some Examples:\n",
    "     Kc(plantation=\"2014-01-01\",Li=25,Ld=25,Lm=30,Le=20,Kci=0.15,Kcm=1.19,Kce=0.35,isodate=\"2014-01-20\")\n",
    "        >>> 0.15\n",
    "     \n",
    "     Kc(plantation=\"2014-01-01\",Li=25,Ld=25,Lm=30,Le=20,Kci=0.15,Kcm=1.19,Kce=0.35,isodate=\"2014-02-10\")\n",
    "        >>> 0.774\n",
    "     \n",
    "     Kc(plantation=\"2014-01-01\",Li=25,Ld=25,Lm=30,Le=20,Kci=0.15,Kcm=1.19,Kce=0.35,isodate=\"2014-03-12\")\n",
    "        >>> 1.19\n",
    "     \n",
    "     Kc(plantation=\"2014-01-01\",Li=25,Ld=25,Lm=30,Le=20,Kci=0.15,Kcm=1.19,Kce=0.35,isodate=\"2014-04-06\")\n",
    "        >>> 0.559\n",
    "    \n",
    "    \"\"\"\n",
    "#step 1: \n",
    "    \n",
    "    plantation = pd.to_datetime(plantation, format='%d/%m') #converting the plantation input info to data time\n",
    "    isodate = pd.to_datetime(isodate , format='%d/%m')  #converting the current date input info to data time\n",
    "    test = ((isodate-plantation).days)%365   #The difference in days between the current day and the plantation day.\n",
    "    \n",
    "    # Setting the plantation date and the current date (this is not used)\n",
    "    Jc = test   \n",
    "    Jp = 0\n",
    "    J = (Jc - Jp)%365  # %365 means the remaing days of the year\n",
    "    \n",
    "#Step 2: Calculating the day of the year when each crop stage ends placing the date in the number of days year betweem 0 (1/jan) and 365 (31/Jan)\n",
    "    JLi = Jp + Li    #end of initial stage = plantation date + lenght of initial stage\n",
    "    JLd = JLi + Ld   #end of development stage = end of initial stage + length of development stage\n",
    "    JLm = JLd + Lm   #end of mid-season stage = end of development stage + length of mid-season stage\n",
    "    JLe = JLm + Le   #end of end-season stage = end of mid-season stage + length of end-season stage\n",
    "\n",
    "#step 3: calculating ckc based on the end of each stage date\n",
    "\n",
    "    if Jc > Jp and Jc < JLe:   #if the current date is greater than the plantation date and it is greater than the end of end-season stage\n",
    "        if J <= JLi:    \n",
    "            ckc = kci  #if the current date is before the end of initial stage then ckc = kci the coefficient of the initial stege\n",
    "        elif Jc > JLi and Jc <=JLd:  #if the current date is betweeen the end of the intial stege and the end of the development stage, then ckc is computed based on equation 66 (page 132.FAO56)\n",
    "            ckc = kci + ((Jc-JLi)/Ld * (kcm-kci))\n",
    "        elif Jc > JLd and Jc <= JLm: \n",
    "            ckc = kcm\n",
    "        elif Jc > JLm and Jc <= JLe:\n",
    "            ckc = kcm + ((Jc-JLm)/Le * (kce-kcm))\n",
    "            \n",
    "    else:\n",
    "        ckc = 0\n",
    "    \n",
    "    return ckc"
   ]
  },
  {
   "cell_type": "markdown",
   "metadata": {},
   "source": [
    "**Running the function**"
   ]
  },
  {
   "cell_type": "code",
   "execution_count": 190,
   "metadata": {},
   "outputs": [],
   "source": [
    "# Define kc factors for the crop; k_1: sowing period, k_2: growing first, k_3: growing second, k_4: harvesting\n",
    "# for yam\n",
    "k_1 = 0.45\n",
    "k_2 = 0.75\n",
    "k_3 = 1.15\n",
    "k_4 = 0.5"
   ]
  },
  {
   "cell_type": "code",
   "execution_count": 191,
   "metadata": {},
   "outputs": [],
   "source": [
    "# Import csv as pandas dataframe\n",
    "mode = pd.read_excel(calendar_path + \"\\\\\" + name_of_file)\n",
    "\n",
    "#Note: The code here is adjusted to avoid the end of year issue. In other cases, the init1 and init2 are one stage init:\n",
    "#pay attention to all changes, you may need to change this if the crop calendar change \n",
    "\n",
    "#Planting season: Initial Stage  (plant = init)\n",
    "init_start = pd.to_datetime(mode['init_start'], format='%d/%m') #defining the plant start date from excel and setting the correct month and days sequence to read.\n",
    "init_end = pd.to_datetime(mode['init_end'], format='%d/%m')\n",
    "mode['init_start_month'] = init_start.dt.month\n",
    "mode['init_end_month'] = init_end.dt.month\n",
    "mode['init_days'] = abs(init_end - init_start).dt.days #Calculating the length of the planting season\n",
    "Li = abs(init_end - init_start).dt.days\n",
    "\n",
    "#growing 1: Development Stage (grow = dev)\n",
    "dev_start = pd.to_datetime(mode['dev_start'], format='%d/%m')\n",
    "dev_end = pd.to_datetime(mode['dev_end'], format='%d/%m')\n",
    "mode['dev_start_month'] = dev_start.dt.month\n",
    "mode['dev_end_month'] = dev_end.dt.month\n",
    "mode['dev_days'] = abs(dev_end - dev_start).dt.days\n",
    "Ld = abs(dev_end - dev_start).dt.days \n",
    "\n",
    "#growing 2: Mid stage ( add : mid)\n",
    "mid_start = pd.to_datetime(mode['mid_start'], format='%d/%m')\n",
    "mid_end = pd.to_datetime(mode['mid_end'], format='%d/%m')\n",
    "mode['mid_start_month'] = mid_start.dt.month\n",
    "mode['mid_end_month'] = mid_end.dt.month\n",
    "mode['mid_days'] = abs(mid_end - mid_start).dt.days\n",
    "Lm = abs(mid_end - mid_start).dt.days \n",
    "\n",
    "#Harvesting: Late stage (harv = late)\n",
    "late_start = pd.to_datetime(mode['late_start'], format='%d/%m') #defining the plant start date from excil and setting the correct month and days sequence to read.\n",
    "late_end = pd.to_datetime(mode['late_end'], format='%d/%m')\n",
    "mode['late_start_month'] = late_start.dt.month\n",
    "mode['late_end_month'] = late_end.dt.month\n",
    "mode['late_days'] = abs(late_end - late_start).dt.days #Calculating the length of the planting season\n",
    "Le = abs(late_end - late_start).dt.days\n",
    "\n",
    "for i in range(1,13):\n",
    "    mode['kc_{}'.format(i)]=0\n",
    "    \n",
    "for index,row in mode.iterrows():\n",
    "    for i in range(0,12):\n",
    "        init_start = pd.to_datetime(mode['init_start'].iloc[index], format='%d/%m') #read the plant start date from excel. \n",
    "        day_start= (init_start.day+1-31)%31   #what does this represent??   \n",
    "        \n",
    "        if (init_start.day-1==30):\n",
    "            month_start = (init_start.month+1-12)%12  #next month\n",
    "        else:\n",
    "            month_start = (init_start.month-12)%12  #the current month\n",
    "            \n",
    "        month_start = (month_start+i)%12\n",
    "        if (month_start==0):\n",
    "            month_start = 12\n",
    "        mode.loc[index,'kc_{}'.format(month_start)] = kc(mode['init_start'].iloc[index],mode['init_days'].iloc[index],mode['dev_days'].iloc[index],mode['mid_days'].iloc[index],mode['late_days'].iloc[index],k_1,k_2,k_3,k_4,'{}/{}'.format(day_start,month_start))\n",
    "        #print (kc)\n",
    "        \n",
    "# so far we worked with (df) dataframe which contains GIS outputs, then we created a (mode) dataframe. \n",
    "# Here we merge them on into one new dataframe called (data) and we chose the merging to be on the 'Mode' column \n",
    "\n",
    "data = pd.merge(df, mode, on='Mode')"
   ]
  },
  {
   "cell_type": "markdown",
   "metadata": {},
   "source": [
    "### Calculating crop evapotransiration (ETc)\n",
    "\n",
    "Note! This is also refered to as Crop Water Requirements (CWR)\n",
    "\n",
    "**Sources**\n",
    "\n",
    "See [here](https://www.sciencedirect.com/topics/agricultural-and-biological-sciences/crop-water-requirement) for definitions"
   ]
  },
  {
   "cell_type": "code",
   "execution_count": 192,
   "metadata": {},
   "outputs": [],
   "source": [
    "# Estimate monthly crop evaropotransoration ETc\n",
    "for i in range(1,13):\n",
    "    data['ETc_{}'.format(i)] = data['ETo_{}'.format(i)] * data['kc_{}'.format(i)]"
   ]
  },
  {
   "cell_type": "markdown",
   "metadata": {},
   "source": [
    "### Sum precipitation"
   ]
  },
  {
   "cell_type": "code",
   "execution_count": 193,
   "metadata": {},
   "outputs": [],
   "source": [
    "# Calculating the annual precipitation: which is the sum of precipitation values\n",
    "data['precipitation_annual']=data.filter(like='prec_').sum(axis=1)  #Filter is used to specify the column of interest"
   ]
  },
  {
   "cell_type": "markdown",
   "metadata": {},
   "source": [
    "### Calculate effective rainfall for every row for each month"
   ]
  },
  {
   "cell_type": "markdown",
   "metadata": {},
   "source": [
    "Effective rainfall calculation is based on [USDA‐SCS method](http://www.fao.org/3/x5560e/x5560e03.htm#TopOfPage), expressed through the emperical formula presented by [M. Ali, S. Mubarak](https://doi.org/10.9734/ARJA/2017/36812). \n",
    "\n",
    "Note that usable soil water storage (d) is defined in mm. d depends on soil water holding capacity, root depth as shown [here](http://www.droughtmanagement.info/literature/BC_MA_Soil_Water_Storage_Capacity_2005.pdf). It is generally calculated as 40 to 60 percent of the available soil-water capacity in the crop root zone, depending on the irrigation management practices used. In this analysis we use 50%.\n",
    "\n",
    "\n",
    "**Sources:**\n",
    " - USDA‐SCS Method, Chapter 2 \"Irrigation Water Requirements\", page 147, url:https://www.wcc.nrcs.usda.gov/ftpref/wntsc/waterMgt/irrigation/NEH15/ch2.pdf\n",
    " - FAO, \"Effective rainfall in irrigated agriculture\", emperical methods, url: http://www.fao.org/3/x5560e/x5560e00.htm#Contents\n",
    " - M. Ali, S. Mubarak, \"Effective Rainfall Calculation Methods for Field Crops: An Overview, Analysis and New Formulation\", url: https://doi.org/10.9734/ARJA/2017/36812\n",
    " - FAO, \"Irrigation Water Management: Irrigation Water Needs\", url: http://www.fao.org/3/S2022E/s2022e00.htm#Contents\n",
    " - S. Mohan, B. Simhadrirao, N. Arumugam, \"Comparative study of effective rainfall estimation methods for lowland rice\", url: https://link.springer.com/article/10.1007/BF00698810\n",
    " - Balram Panigrahi, Megh R. Goyal, (Book), \"Soil and Water Engineering: Principles and Applications of Modeling\", page 265, url: https://books.google.se/books?id=wR9jDAAAQBAJ&pg=PA264&lpg=PA264&dq=criwar+semi+empirical+information+Pe&source=bl&ots=Bim8aJhvm3&sig=ACfU3U3xQK7FeZxIutU1-W962mydu3yesQ&hl=en&sa=X&ved=2ahUKEwjH0e3H-JriAhUxtIsKHftyB_UQ6AEwCnoECAcQAQ#v=onepage&q=criwar%20semi%20empirical%20information%20Pe&f=false\n"
   ]
  },
  {
   "cell_type": "code",
   "execution_count": 194,
   "metadata": {},
   "outputs": [],
   "source": [
    "# Effective Rooting Depth of Mature Crops (rd) in m; defined by user. \n",
    "# Indicative values available here (http://www.droughtmanagement.info/literature/BC_MA_Soil_Water_Storage_Capacity_2005.pdf) AND \n",
    "#FAO SOURCE:\n",
    "#(http://www.fao.org/3/y5749e/y5749e0j.htm)\n",
    "data[\"rd\"] = 0.5  # m\n",
    "\n",
    "# Water storage capacity of the soil (awsc) in mm/m; defined by user.\n",
    "# Indicative values for different soils available here (http://www.droughtmanagement.info/literature/BC_MA_Soil_Water_Storage_Capacity_2005.pdf)\n",
    "\n",
    "# Defining usable soil water storage (d) in inches\n",
    "data[\"da\"] = data[\"rd\"] * data[\"awsc\"] * 0.5 * 0.0393701\n",
    "\n",
    "# correction factor; depends on da (see Balram Panigrani above)\n",
    "data[\"sf\"] = 0.531747 + 0.295164*data[\"da\"] - 0.057697*(data[\"da\"]**2) + 0.003804*(data[\"da\"]**3)\n",
    "\n",
    "#Define rainfall function \n",
    "def eff_rainfall(sf, prec, etc):\n",
    "    return (sf*(0.70917*(((prec*0.0393701) ** 0.82416) - 0.11556))*(10**(0.2426*(etc*0.0393701))))/0.0393701\n",
    "\n",
    "\n",
    "#Initiate\n",
    "for i in range(1,13):\n",
    "    data['eff_{}'.format(i)]=0\n",
    "    \n",
    "for i in range(1,13):\n",
    "    data['eff_{}'.format(i)] = eff_rainfall(data[\"sf\"], data['prec_{}'.format(i)],data['ETc_{}'.format(i)])\n",
    "    data.loc[data['eff_{}'.format(i)] < 0, 'eff_{}'.format(i)] = 0.0001\n",
    "    data.loc[(data['eff_{}'.format(i)] >= data['prec_{}'.format(i)]), 'eff_{}'.format(i)] = data['prec_{}'.format(i)]\n",
    "    data.loc[(data['eff_{}'.format(i)] >= data['ETc_{}'.format(i)]), 'eff_{}'.format(i)] = data['ETc_{}'.format(i)]\n",
    "\n",
    "## Uncomment to save file up to this point\n",
    "\n",
    "##Create a Pandas Excel writer using XlsxWriter as the engine.\n",
    "#writer = pd.ExcelWriter('Pilot_Result_Part1.xlsx', engine='xlsxwriter')\n",
    "#\n",
    "## Convert the dataframe to an XlsxWriter Excel object.\n",
    "#data.to_excel(writer, sheet_name='part_1')\n",
    "#\n",
    "## Close the Pandas Excel writer and output the Excel file.\n",
    "#writer.save()"
   ]
  },
  {
   "cell_type": "markdown",
   "metadata": {},
   "source": [
    "## Part 2. Calculating Irrigation requirements \n",
    "\n",
    "* Net Irrigation requirements (IRn)\n",
    "* Peak Crop Water Requirements (PCWR)\n",
    "* Peak Water Demand (PWD) \n",
    "* Seasonal Scheme Water Demand (SSWD)"
   ]
  },
  {
   "cell_type": "markdown",
   "metadata": {},
   "source": [
    "### Net Irrigation requirements (IRn) (mm/month)\n",
    "\n",
    "**Sources**\n",
    "\n",
    "- [FAO paper 24, \"Crop Water Requirements\"](http://www.fao.org/3/s8376e/s8376e.pdf)\n",
    "- [FAO, \"Irrigation potential in Africa Chapter 5\"](http://www.fao.org/3/W4347E/w4347e0c.htm#chapter%205:%20irrigation%20water%20requirements)\n",
    "- [Andreas P. SAVVA Karen FRENKEN, \"Irrigation manual\", Volume 1, Module 4](http://www.fao.org/tempref/agl/AGLW/ESPIM/CD-ROM/documents/7I1_e.pdf)\n",
    "\n",
    "--------------------------------------------------------------------------------------------------------------"
   ]
  },
  {
   "cell_type": "code",
   "execution_count": 195,
   "metadata": {},
   "outputs": [],
   "source": [
    "for i in range (1,13):\n",
    "    data['IRn_{}'.format(i)]= data['ETc_{}'.format(i)]*30 - data['eff_{}'.format(i)]*30"
   ]
  },
  {
   "cell_type": "markdown",
   "metadata": {},
   "source": [
    "### Peak Crop Water Requirements (PCWR)"
   ]
  },
  {
   "cell_type": "code",
   "execution_count": 196,
   "metadata": {},
   "outputs": [],
   "source": [
    "# Converting IRn into (m3/ha per month) \n",
    "for i in range (1,13):\n",
    "    data['IRn_{}'.format(i)] *= 10    # 0.001*10000\n",
    "    \n",
    "# Converting IRn into (m3/ha per day)\n",
    "for i in range (1,13):\n",
    "    data['IRnd_{}'.format(i)] = data['IRn_{}'.format(i)] / 30\n",
    "    \n",
    "# Peak crop water requirement (PCWR) is estimated as 2*IRnd (source: FAO manual) (unit: m3/ha per day)\n",
    "for i in range (1,13):\n",
    "    data['PCWR_{}'.format(i)] = data['IRnd_{}'.format(i)] * 2 \n",
    "    \n",
    "# Converting PCWR into  l/s/ha \"Duty\"\n",
    "for i in range (1,13):\n",
    "    data['PCWR_{}'.format(i)] *= 0.012"
   ]
  },
  {
   "cell_type": "markdown",
   "metadata": {},
   "source": [
    "### Peak Water Demand (PWD)  in l/s || Seasonal Scheme Water Demand (SSWD) in m3"
   ]
  },
  {
   "cell_type": "code",
   "execution_count": 197,
   "metadata": {},
   "outputs": [],
   "source": [
    "# In order to estimate PWD and SSWS we need first to compute the irrigated area used in that particular month. \n",
    "\n",
    "for index,row in data.iterrows():\n",
    "    len_init = (len(range(row['init_start_month'],row['init_end_month']))+1)\n",
    "    \n",
    "    \n",
    "# PWD = PCWR / Irrigation efficiency(IrrEff) \n",
    "# IrrEff = Field Application Efficiency (aeff) * Distribution Efficiency (deff)*100 \n",
    "# deff = (Conveyance efficiency + field canal efficiency)\n",
    "# deff: 0.95 (all scenarios)\n",
    "# aeff: 0.6 (Surface Irr), 0.75 (Sprinkler Irr), 0.9 (Drip Irr)\n",
    "\n",
    "pumping_hours_per_day=10    # Assumption  \n",
    "deff= 0.95                 # Assumption\n",
    "aeff= 0.9                 # Assumption\n",
    "\n",
    "\n",
    "count_p=0                           # To adjust the count of months in the loop below\n",
    "count_h=0                           # To adjust the count of months in the loop below\n",
    "init_count = np.zeros(len(data))\n",
    "late_count = np.zeros(len(data))\n",
    "\n",
    "for i in [1,2,3,4,5,6,7,8,9,10,11,12]:\n",
    "\n",
    "    init = [(i >= j) & (i <= k) for j, k in zip(data['init_start_month'],data['init_end_month'])]\n",
    "\n",
    "    data.loc[init,'harvested_{}'.format(i)] =(data['harv_area']/(len_init)*init_count)\n",
    "    data.loc[init,'PWD_{}'.format(i)]= (data['PCWR_{}'.format(i)] *(data['harvested_{}'.format(i)]*24))/(pumping_hours_per_day*aeff*deff)\n",
    "    data.loc[init,'SSWD_{}'.format(i)]= (data['IRn_{}'.format(i)]*(data['harvested_{}'.format(i)])/(aeff*deff))\n",
    "    \n",
    "    dev = [(i >= j) & (i <= k) for j, k in zip(data['dev_start_month'],data['dev_end_month'])]\n",
    "    \n",
    "    data.loc[dev,'harvested_{}'.format(i)]=data['harv_area']\n",
    "    data.loc[dev,'PWD_{}'.format(i)]=(data['PCWR_{}'.format(i)]*data['harv_area']*24)/(pumping_hours_per_day*aeff*deff)\n",
    "    data.loc[dev,'SSWD_{}'.format(i)]= (data['IRn_{}'.format(i)]*data['harv_area'])/(aeff*deff)\n",
    "    \n",
    "    \n",
    "    mid = [(i >= j) & (i <= k) for j, k in zip(data['mid_start_month'],data['mid_end_month'])]\n",
    "    \n",
    "    data.loc[mid,'harvested_{}'.format(i)]=data['harv_area']\n",
    "    data.loc[mid,'PWD_{}'.format(i)]=(data['PCWR_{}'.format(i)]*data['harv_area']*24)/(pumping_hours_per_day*aeff*deff)\n",
    "    data.loc[mid,'SSWD_{}'.format(i)]= (data['IRn_{}'.format(i)]*data['harv_area'])/(aeff*deff)\n",
    "    \n",
    "    late = [(i >= j) & (i <= k) for j, k in zip(data['late_start_month'],data['late_end_month'])]\n",
    "\n",
    "    late_count += late * 1\n",
    "\n",
    "    data.loc[late,'harvested_{}'.format(i)]=(data['harv_area']/([len(range(i,j+1)) for i,j in zip(data['late_start_month'],data['late_end_month'])])*late_count)\n",
    "    data.loc[late,'PWD_{}'.format(i)]= (data['PCWR_{}'.format(i)]*(data['harvested_{}'.format(i)]*24)/(pumping_hours_per_day*aeff*deff))\n",
    "    data.loc[late,'SSWD_{}'.format(i)]= (data['IRn_{}'.format(i)]*(data['harvested_{}'.format(i)])/(aeff*deff))"
   ]
  },
  {
   "cell_type": "markdown",
   "metadata": {},
   "source": [
    "Export dataframe into a csv file (Uncomment to activate)"
   ]
  },
  {
   "cell_type": "code",
   "execution_count": 198,
   "metadata": {},
   "outputs": [],
   "source": [
    "## Finally, print results of part 2\n",
    "#\n",
    "##Create a Pandas Excel writer using XlsxWriter as the engine.\n",
    "writer = pd.ExcelWriter('Pilot_Results_yam_1km_update3.xlsx', engine='xlsxwriter')\n",
    "#\n",
    "## Convert the dataframe to an XlsxWriter Excel object.\n",
    "data.to_excel(writer, sheet_name='test_all')\n",
    "#\n",
    "#\n",
    "## Close the Pandas Excel writer and output the Excel file.\n",
    "writer.save()"
   ]
  },
  {
   "cell_type": "markdown",
   "metadata": {},
   "source": [
    "## Part 3.  Estimatind energy and power requirements\n",
    "\n",
    "***Sources***\n",
    "\n",
    "- [FAO, Chapter 4 - *Comparison of energy alternatives for small-scale irrigation\"](http://www.fao.org/3/u2246e/u2246e05.htm#1%20technical%20calculations)\n",
    "- [Andreas P. SAVVA Karen FRENKEN, \"Irrigation manual\", Volume 1, Module 4](http://www.fao.org/tempref/agl/AGLW/ESPIM/CD-ROM/documents/7I1_e.pdf)\n"
   ]
  },
  {
   "cell_type": "markdown",
   "metadata": {},
   "source": [
    "### Total dynamic head (TDH) for ground and surface water sources"
   ]
  },
  {
   "cell_type": "code",
   "execution_count": 199,
   "metadata": {},
   "outputs": [],
   "source": [
    "#data['sw_depth'] = np.random.randint(0,5, size=len(data))  ## refering to the suction lift im (m)\n",
    "#data['sw_dist'] = np.random.randint(0,50, size=len(data))  ## refering to the distance to water source in (m)\n",
    "#data['sw_suitability'] = np.random.choice([1,9999], size=len(data))  ## refering to the distance to water source in (m)\n",
    "\n",
    "# Total dynamic head (TDH) in meters: Total static head (m) + Pressure head (m) + Friction head (m)\n",
    "# Total static head for groundwater: ground water depth gw_depth\n",
    "# Total static head for surface water: (elevation of water source - elevation of application) x distance to source\n",
    "\n",
    "# Pressure head (m): 0 m (SU), 30 m (SP), 10 m (DR) , check if it is in 1992?\n",
    "# Friction head (m): 1 m (SU), 20% of presure head (SP, DR) , check if it is in 1992?\n",
    "\n",
    "pres_head_gw = 10\n",
    "frict_head_gw = 0.2*pres_head_gw\n",
    "\n",
    "pres_head_sw = 1\n",
    "frict_head_sw = 0.2*pres_head_sw\n",
    "\n",
    "def tdh_gw(row):\n",
    "    tdh=(row['gw_depth']) + pres_head_gw + frict_head_gw\n",
    "    return tdh\n",
    "\n",
    "def tdh_sw(row):\n",
    "    tsh = row['sw_depth'] - row['elevation']\n",
    "    if tsh <= 0:\n",
    "        tdh=(abs(row['sw_depth'] - row['elevation'])) + pres_head_sw + (frict_head_sw*row[\"sw_dist\"]*row[\"sw_suit\"])\n",
    "    else:\n",
    "        tdh = pres_head_sw + (frict_head_sw*row[\"sw_dist\"]*row[\"sw_suit\"])\n",
    "    return tdh\n",
    "\n",
    "data['tdh_gw'] = data.apply(tdh_gw , axis=1)\n",
    "data['tdh_sw'] = data.apply(tdh_sw , axis=1)"
   ]
  },
  {
   "cell_type": "markdown",
   "metadata": {},
   "source": [
    "### Estimating power (kW) and electricity (kWh) demand "
   ]
  },
  {
   "cell_type": "code",
   "execution_count": 200,
   "metadata": {},
   "outputs": [],
   "source": [
    "#Setting the default value for these parameters\n",
    "for i in range (1,13):\n",
    "    data['PD_E_gw_{}'.format(i)]=0      #PD_E_gw: Peak Demand (kw) using electric powered pump for ground water\n",
    "    data['PD_E_sw_{}'.format(i)]=0      #PD_E_sw: Peak Demand (kw) using electric powered pump for surface water \n",
    "    data['ED_E_gw_{}'.format(i)]=0      #ED_E_gw: Electricity Demand (kwh) using electric powered pump for ground water\n",
    "    data['ED_E_sw_{}'.format(i)]=0      #ED_E_sw: Electricity Demand (kwh) using electric powered pump for surface water \n",
    "\n",
    "# Pumping plant efficiencty (%)= fuel efficiency (%) * \"power unit eff (%)\" * transmission eff (%) * pump eff (%) * 100%\n",
    "# The Power Unit: can be diesel engine or electric engine. In the first we call it (diesel powered pump) and the second (electric powered pump)\n",
    "\n",
    "# Diesel powered pump\n",
    "#Worst case: 0.9*0.3*0.9*0.4 ~ 10 % (0.1)\n",
    "#Best case: 1*0.4*1*0.8 = 32% (0.32)\n",
    "\n",
    "# Electric powered pump\n",
    "#Worst case: 0.9*0.75*0.9*0.4 ~ 25% (0.25)\n",
    "#Best case: 1*0.85*1*0.8 ~ 70% (0.7)\n",
    "\n",
    "pump_plant_eff=0.7\n",
    "\n",
    "for i in range (1,13):\n",
    "    PWD = 'PWD_{}'.format(i)\n",
    "    SSWD = 'SSWD_{}'.format(i)\n",
    "    PD_E_gw = 'PD_E_gw_{}'.format(i)\n",
    "    ED_E_gw = 'ED_E_gw_{}'.format(i)\n",
    "    PD_E_sw = 'PD_E_sw_{}'.format(i)\n",
    "    ED_E_sw = 'ED_E_sw_{}'.format(i)\n",
    "\n",
    "    data[PD_E_gw]=(9.81*(data[PWD]/1000)*data['tdh_gw'])/pump_plant_eff\n",
    "    data[ED_E_gw]=(data[SSWD]*data['tdh_gw']*0.00272)/pump_plant_eff\n",
    "    data[PD_E_sw]=(9.81*(data[PWD]/1000)*data['tdh_sw'])/pump_plant_eff\n",
    "    data[ED_E_sw]=(data[SSWD]*data['tdh_sw']*0.00272)/pump_plant_eff"
   ]
  },
  {
   "cell_type": "markdown",
   "metadata": {},
   "source": [
    "### Decision between ground or surface water irrigation\n",
    "\n",
    "Selection based on peak power demand (kW) for the two options. First, we identify the max value between the two sub-categories and then we select the option that provides the minimum peak power. "
   ]
  },
  {
   "cell_type": "code",
   "execution_count": 201,
   "metadata": {},
   "outputs": [],
   "source": [
    "data['PD_E_gw_max']=data.filter(like='PD_E_gw_').max(axis=1) \n",
    "data['PD_E_sw_max']=data.filter(like='PD_E_sw_').max(axis=1)  \n",
    "data['PD_E'] = np.minimum.reduce(data[['PD_E_gw_max', 'PD_E_sw_max']].values, axis=1)"
   ]
  },
  {
   "cell_type": "markdown",
   "metadata": {},
   "source": [
    "### Estimate annual electricity demand (kWh/year) \n",
    "\n",
    "**Sources**\n",
    "\n",
    "- [Andreas P. SAVVA Karen FRENKEN, \"Irrigation manual\", Volume 1, Module 5](http://www.fao.org/tempref/agl/AGLW/ESPIM/CD-ROM/documents/7I1_e.pdf)\n"
   ]
  },
  {
   "cell_type": "code",
   "execution_count": 202,
   "metadata": {},
   "outputs": [],
   "source": [
    "# Estimate the gross annual irrigation requirements per location in (m3)\n",
    "data['gross_an_irrig_req']=data.filter(like='SSWD_').sum(axis=1)   \n",
    "\n",
    "# Identify the peak water demand (PWD) and convert it from l/s to m3/h\n",
    "data['PWD_max']=data.filter(like='PWD_').max(axis=1)\n",
    "data['PWD_max'] *= 3.6\n",
    "\n",
    "# Estimate annual electricity demand per location assuming motor efficiency\n",
    "motor_eff = 0.88\n",
    "data['Annual_elec_demand'] = (data['gross_an_irrig_req']/data['PWD_max'])*(data['PD_E']/0.88)"
   ]
  },
  {
   "cell_type": "markdown",
   "metadata": {},
   "source": [
    "## Part 4. Summaries, Vizualization & Export of results"
   ]
  },
  {
   "cell_type": "code",
   "execution_count": 203,
   "metadata": {},
   "outputs": [],
   "source": [
    "# This filters the dataframe, only keeping the locations for which electricity demand was identified\n",
    "\n",
    "demandf = data[data['Annual_elec_demand'].notnull() & (data[\"Annual_elec_demand\"] != 0)]"
   ]
  },
  {
   "cell_type": "code",
   "execution_count": 204,
   "metadata": {},
   "outputs": [
    {
     "data": {
      "text/markdown": [
       "### Summary \n",
       " These are the summarized results"
      ],
      "text/plain": [
       "<IPython.core.display.Markdown object>"
      ]
     },
     "metadata": {},
     "output_type": "display_data"
    },
    {
     "data": {
      "text/html": [
       "<div>\n",
       "<style scoped>\n",
       "    .dataframe tbody tr th:only-of-type {\n",
       "        vertical-align: middle;\n",
       "    }\n",
       "\n",
       "    .dataframe tbody tr th {\n",
       "        vertical-align: top;\n",
       "    }\n",
       "\n",
       "    .dataframe thead th {\n",
       "        text-align: right;\n",
       "    }\n",
       "</style>\n",
       "<table border=\"1\" class=\"dataframe\">\n",
       "  <thead>\n",
       "    <tr style=\"text-align: right;\">\n",
       "      <th></th>\n",
       "      <th>Scenario</th>\n",
       "      <th>Total harvested area</th>\n",
       "      <th>Total locations irrigated</th>\n",
       "      <th>Total irrigated area</th>\n",
       "      <th>% of area for irrigation</th>\n",
       "      <th>Total water needs</th>\n",
       "      <th>Total electricity demand</th>\n",
       "    </tr>\n",
       "  </thead>\n",
       "  <tbody>\n",
       "    <tr>\n",
       "      <th>Yam</th>\n",
       "      <td>2018_1km</td>\n",
       "      <td>141988.77</td>\n",
       "      <td>24595</td>\n",
       "      <td>135990.83</td>\n",
       "      <td>0.96</td>\n",
       "      <td>98478144.32</td>\n",
       "      <td>7500569.56</td>\n",
       "    </tr>\n",
       "  </tbody>\n",
       "</table>\n",
       "</div>"
      ],
      "text/plain": [
       "     Scenario  Total harvested area  Total locations irrigated  \\\n",
       "Yam  2018_1km             141988.77                      24595   \n",
       "\n",
       "     Total irrigated area  % of area for irrigation  Total water needs  \\\n",
       "Yam             135990.83                      0.96        98478144.32   \n",
       "\n",
       "     Total electricity demand  \n",
       "Yam                7500569.56  "
      ]
     },
     "execution_count": 204,
     "metadata": {},
     "output_type": "execute_result"
    }
   ],
   "source": [
    "# Estimating summaries\n",
    "\n",
    "a = demandf[\"gross_an_irrig_req\"].count()\n",
    "b = demandf[\"gross_an_irrig_req\"].sum()\n",
    "c = demandf[\"Annual_elec_demand\"].sum()\n",
    "d = demandf[\"harv_area\"].sum()\n",
    "e = data[\"harv_area\"].sum()\n",
    "f = d/e\n",
    "\n",
    "sums = [{\"Scenario\":scenarioname, \"Total harvested area\":e,'Total locations irrigated':a, 'Total irrigated area': d, \"% of area for irrigation\":f,'Total water needs': b,'Total electricity demand':c, }] \n",
    "\n",
    "\n",
    "pd.options.display.float_format = '{:.2f}'.format\n",
    "summary_table = pd.DataFrame(sums, index = [cropname])\n",
    "\n",
    "display(Markdown('### Summary \\n These are the summarized results'))\n",
    "summary_table"
   ]
  },
  {
   "cell_type": "markdown",
   "metadata": {},
   "source": [
    "### Create an interactive map with results\n",
    "\n",
    "Note! In case the analysis is conducted for thausands of locations, this might be computationally intensive."
   ]
  },
  {
   "cell_type": "code",
   "execution_count": 205,
   "metadata": {},
   "outputs": [
    {
     "data": {
      "text/markdown": [
       "<a href=\"maps/map_Moz_Yam_2018_1km.html\" target=\"_blank\">Click here to render the map of electricity demand</a>"
      ],
      "text/plain": [
       "<IPython.core.display.Markdown object>"
      ]
     },
     "metadata": {},
     "output_type": "display_data"
    }
   ],
   "source": [
    "# Vizualize result on an interactive map exported as html \n",
    "\n",
    "#Define limits for map rendering\n",
    "x_ave = demandf[\"lon\"].mean()\n",
    "y_ave = demandf[\"lat\"].mean()\n",
    "elecdem = demandf[\"Annual_elec_demand\"].median()\n",
    "\n",
    "# Create the map using folium module\n",
    "map_dem = folium.Map(location=[y_ave,x_ave], zoom_start=6, control_scale=True)\n",
    "\n",
    "# Definition of a function that returns different color names based on lcoe result categorization\n",
    "# Colors are in Hexa-code e.g. #RRGGBB\n",
    "def colorvalue(x):\n",
    "    if x <= 0.5:\n",
    "        return \"#ADFF2F\"\n",
    "    elif x >= 0.5 and x < 2:\n",
    "        return \"#32CD32\"\n",
    "    elif x >= 2 and x < 10:\n",
    "        return \"#228B22\"\n",
    "    elif x >= 10 and x < 100:\n",
    "        return \"#008000\"\n",
    "    elif x >= 100 and x < 500:\n",
    "        return \"#006400\"\n",
    "    else:\n",
    "        return \"#000000\" \n",
    "\n",
    "# The we create a marker for each cluster; \n",
    "# We pass coordinates, lcoe value and size as attributes to appear on the rendered map\n",
    "for index, row in demandf.iterrows():\n",
    "    el_demand = row[\"Annual_elec_demand\"]\n",
    "    area = row[\"harv_area\"]\n",
    "    color_code = colorvalue(el_demand)\n",
    "    #radius_size = radius_sizing(area)\n",
    "    #print (color_code)\n",
    "    #print (radius_size)\n",
    "    folium.CircleMarker([row[\"lat\"], row[\"lon\"]],\n",
    "                        radius=2,\n",
    "                        color=color_code,\n",
    "                        popup=\"Demand: {:.2} kWh, Area: {:.2} ha\".format(row[\"Annual_elec_demand\"], row[\"harv_area\"]),\n",
    "                        fill = True,\n",
    "                        fill_opacity=0,\n",
    "                       ).add_to(map_dem)\n",
    "\n",
    "# We define the limits of the legend and fix its printout format\n",
    "# We use branca module to create a colormap legend and then add legend to the map\n",
    "min_dem = demandf[\"Annual_elec_demand\"].min()\n",
    "max_dem = demandf[\"Annual_elec_demand\"].max()\n",
    "min_dem = float(\"{0:.2f}\".format(min_dem))\n",
    "max_dem = float(\"{0:.2f}\".format(max_dem))\n",
    "legend = cm.LinearColormap(['#ADFF2F','#32CD32','#228B22','#008000','#006400','#000000'], \n",
    "                           index=None, vmin=min_dem, vmax=max_dem)\n",
    "legend.add_to(map_dem)    \n",
    "\n",
    "# Create a new directory where the map(s) can be saved\n",
    "try:\n",
    "    os.makedirs('maps')\n",
    "except FileExistsError:\n",
    "    pass\n",
    "\n",
    "map_dem_output = 'maps/map_{}_{}_{}.html'.format(\"Moz\", cropname, scenarioname)\n",
    "map_dem.save(map_dem_output)\n",
    "\n",
    "# Finally add the link that leads to the final map output\n",
    "display(Markdown('<a href=\"{}\" target=\"_blank\">Click here to render the map of electricity demand</a>'.format(map_dem_output)))"
   ]
  },
  {
   "cell_type": "markdown",
   "metadata": {},
   "source": [
    "### Exporting results"
   ]
  },
  {
   "cell_type": "markdown",
   "metadata": {},
   "source": [
    "<div class=\"alert alert-block alert-warning\">\n",
    "    <b>Note:</b> In this example the filtered results are saved in the sub-folder <b>agrodem_sample_output_data</b> located in the repo.\n",
    "</div>"
   ]
  },
  {
   "cell_type": "code",
   "execution_count": 206,
   "metadata": {},
   "outputs": [],
   "source": [
    "# Exports dataframe to csv in a defined path\n",
    "\n",
    "#messagebox.showinfo('OnSSET', 'Browse to the folder where you want to save the outputs')\n",
    "#path = filedialog.askdirectory()\n",
    "\n",
    "#agrodem_output_path = r\"C:\\Users\\alekor\\Desktop\\GithubFolder\\agrodem\\agrodem_sample_output_data\"\n",
    "#name = \"Sample_Moz_Maize_2017_1km_Results\"\n",
    "agrodem_output_path = r\"C:\\Benin\\Agrodem_output\"\n",
    "name=\"Agrodem_output_yam_1km_sample_update3\"\n",
    "demandf.to_csv(os.path.join(agrodem_output_path,\"{c}.csv\".format(c=name)))"
   ]
  },
  {
   "cell_type": "markdown",
   "metadata": {},
   "source": [
    "Export full dataframe into a csv file (Uncomment to activate)"
   ]
  },
  {
   "cell_type": "code",
   "execution_count": 207,
   "metadata": {},
   "outputs": [],
   "source": [
    "## This part prints full results\n",
    "#\n",
    "path = r\"C:\\Benin\\Agrodem_output\"\n",
    "data.to_csv(os.path.join(path,\"{c}.csv\".format(c=\"Agrodem_output_yam_1km_full_result_update3\")))"
   ]
  },
  {
   "cell_type": "code",
   "execution_count": null,
   "metadata": {},
   "outputs": [],
   "source": []
  }
 ],
 "metadata": {
  "anaconda-cloud": {},
  "kernelspec": {
   "display_name": "Python 3",
   "language": "python",
   "name": "python3"
  },
  "language_info": {
   "codemirror_mode": {
    "name": "ipython",
    "version": 3
   },
   "file_extension": ".py",
   "mimetype": "text/x-python",
   "name": "python",
   "nbconvert_exporter": "python",
   "pygments_lexer": "ipython3",
   "version": "3.7.6"
  }
 },
 "nbformat": 4,
 "nbformat_minor": 1
}
